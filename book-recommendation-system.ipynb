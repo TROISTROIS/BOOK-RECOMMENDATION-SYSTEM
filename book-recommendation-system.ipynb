{
 "cells": [
  {
   "cell_type": "markdown",
   "id": "5f658558",
   "metadata": {},
   "source": [
    "<a href=\"https://www.kaggle.com/code/franciscangeno/book-recommendation-system?scriptVersionId=114484862\" target=\"_blank\"><img align=\"left\" alt=\"Kaggle\" title=\"Open in Kaggle\" src=\"https://kaggle.com/static/images/open-in-kaggle.svg\"></a>"
   ]
  },
  {
   "cell_type": "code",
   "execution_count": 65,
   "id": "0da359cb",
   "metadata": {
    "execution": {
     "iopub.execute_input": "2022-12-22T11:25:56.556392Z",
     "iopub.status.busy": "2022-12-22T11:25:56.555941Z",
     "iopub.status.idle": "2022-12-22T11:25:56.562235Z",
     "shell.execute_reply": "2022-12-22T11:25:56.561074Z"
    },
    "papermill": {
     "duration": 0.028315,
     "end_time": "2022-12-22T11:25:56.564504",
     "exception": false,
     "start_time": "2022-12-22T11:25:56.536189",
     "status": "completed"
    },
    "tags": []
   },
   "outputs": [],
   "source": [
    "from pandas.io import gbq"
   ]
  },
  {
   "cell_type": "code",
   "execution_count": 66,
   "id": "0ade52d4",
   "metadata": {
    "_cell_guid": "b1076dfc-b9ad-4769-8c92-a6c4dae69d19",
    "_uuid": "8f2839f25d086af736a60e9eeb907d3b93b6e0e5",
    "execution": {
     "iopub.execute_input": "2022-12-22T11:25:03.481353Z",
     "iopub.status.busy": "2022-12-22T11:25:03.480883Z",
     "iopub.status.idle": "2022-12-22T11:25:04.698141Z",
     "shell.execute_reply": "2022-12-22T11:25:04.697046Z"
    },
    "papermill": {
     "duration": 1.236794,
     "end_time": "2022-12-22T11:25:04.701046",
     "exception": false,
     "start_time": "2022-12-22T11:25:03.464252",
     "status": "completed"
    },
    "tags": []
   },
   "outputs": [],
   "source": [
    "# This Python 3 environment comes with many helpful analytics libraries installed\n",
    "# It is defined by the kaggle/python Docker image: https://github.com/kaggle/docker-python\n",
    "# For example, here's several helpful packages to load\n",
    "\n",
    "import numpy as np # linear algebra\n",
    "import pandas as pd # data processing, CSV file I/O (e.g. pd.read_csv)\n",
    "from sklearn.feature_extraction.text import TfidfVectorizer \n",
    "from sklearn.metrics.pairwise import cosine_similarity\n",
    "import gdown\n",
    "import re\n",
    "# You can write up to 20GB to the current directory (/kaggle/working/) that gets preserved as output when you create a version using \"Save & Run All\" \n",
    "# You can also write temporary files to /kaggle/temp/, but they won't be saved outside of the current session"
   ]
  },
  {
   "cell_type": "code",
   "execution_count": 67,
   "id": "92d9aba8",
   "metadata": {},
   "outputs": [],
   "source": [
    "url = \"https://drive.google.com/uc?id=1LXpK1UfqtP89H1tYy0pBGHjYk8IhigUK\"\n",
    "output = 'goodreads_books.json.gz'"
   ]
  },
  {
   "cell_type": "code",
   "execution_count": 68,
   "id": "2a3797e9",
   "metadata": {
    "execution": {
     "iopub.execute_input": "2022-12-22T11:25:56.604774Z",
     "iopub.status.busy": "2022-12-22T11:25:56.604401Z",
     "iopub.status.idle": "2022-12-22T11:26:37.207204Z",
     "shell.execute_reply": "2022-12-22T11:26:37.205589Z"
    },
    "papermill": {
     "duration": 40.627045,
     "end_time": "2022-12-22T11:26:37.210232",
     "exception": false,
     "start_time": "2022-12-22T11:25:56.583187",
     "status": "completed"
    },
    "tags": []
   },
   "outputs": [],
   "source": [
    "# # get the google drive file\n",
    "# gdown.download(url, output, quiet=False)"
   ]
  },
  {
   "cell_type": "code",
   "execution_count": 69,
   "id": "cb2dd626",
   "metadata": {
    "execution": {
     "iopub.execute_input": "2022-12-22T11:26:37.249537Z",
     "iopub.status.busy": "2022-12-22T11:26:37.249106Z",
     "iopub.status.idle": "2022-12-22T11:26:37.25597Z",
     "shell.execute_reply": "2022-12-22T11:26:37.255063Z"
    },
    "papermill": {
     "duration": 0.02924,
     "end_time": "2022-12-22T11:26:37.25835",
     "exception": false,
     "start_time": "2022-12-22T11:26:37.22911",
     "status": "completed"
    },
    "tags": []
   },
   "outputs": [],
   "source": [
    "import gzip\n",
    "# we are going to read the file line by line\n",
    "# streams the file without unzipping it\n",
    "with gzip.open(\"goodreads_books.json.gz\",\"r\") as f:\n",
    "    line = f.readline()"
   ]
  },
  {
   "cell_type": "code",
   "execution_count": 70,
   "id": "588687d7",
   "metadata": {
    "execution": {
     "iopub.execute_input": "2022-12-22T11:26:37.296682Z",
     "iopub.status.busy": "2022-12-22T11:26:37.296284Z",
     "iopub.status.idle": "2022-12-22T11:26:37.305603Z",
     "shell.execute_reply": "2022-12-22T11:26:37.304426Z"
    },
    "papermill": {
     "duration": 0.031651,
     "end_time": "2022-12-22T11:26:37.308201",
     "exception": false,
     "start_time": "2022-12-22T11:26:37.27655",
     "status": "completed"
    },
    "tags": []
   },
   "outputs": [
    {
     "data": {
      "text/plain": [
       "b'{\"isbn\": \"0312853122\", \"text_reviews_count\": \"1\", \"series\": [], \"country_code\": \"US\", \"language_code\": \"\", \"popular_shelves\": [{\"count\": \"3\", \"name\": \"to-read\"}, {\"count\": \"1\", \"name\": \"p\"}, {\"count\": \"1\", \"name\": \"collection\"}, {\"count\": \"1\", \"name\": \"w-c-fields\"}, {\"count\": \"1\", \"name\": \"biography\"}], \"asin\": \"\", \"is_ebook\": \"false\", \"average_rating\": \"4.00\", \"kindle_asin\": \"\", \"similar_books\": [], \"description\": \"\", \"format\": \"Paperback\", \"link\": \"https://www.goodreads.com/book/show/5333265-w-c-fields\", \"authors\": [{\"author_id\": \"604031\", \"role\": \"\"}], \"publisher\": \"St. Martin\\'s Press\", \"num_pages\": \"256\", \"publication_day\": \"1\", \"isbn13\": \"9780312853129\", \"publication_month\": \"9\", \"edition_information\": \"\", \"publication_year\": \"1984\", \"url\": \"https://www.goodreads.com/book/show/5333265-w-c-fields\", \"image_url\": \"https://images.gr-assets.com/books/1310220028m/5333265.jpg\", \"book_id\": \"5333265\", \"ratings_count\": \"3\", \"work_id\": \"5400751\", \"title\": \"W.C. Fields: A Life on Film\", \"title_without_series\": \"W.C. Fields: A Life on Film\"}\\n'"
      ]
     },
     "execution_count": 70,
     "metadata": {},
     "output_type": "execute_result"
    }
   ],
   "source": [
    "line\n",
    "# this is metadata about a single book"
   ]
  },
  {
   "cell_type": "code",
   "execution_count": 71,
   "id": "554fb491",
   "metadata": {
    "execution": {
     "iopub.execute_input": "2022-12-22T11:26:37.347225Z",
     "iopub.status.busy": "2022-12-22T11:26:37.346563Z",
     "iopub.status.idle": "2022-12-22T11:26:37.354347Z",
     "shell.execute_reply": "2022-12-22T11:26:37.353571Z"
    },
    "papermill": {
     "duration": 0.02955,
     "end_time": "2022-12-22T11:26:37.356375",
     "exception": false,
     "start_time": "2022-12-22T11:26:37.326825",
     "status": "completed"
    },
    "tags": []
   },
   "outputs": [
    {
     "data": {
      "text/plain": [
       "{'isbn': '0312853122',\n",
       " 'text_reviews_count': '1',\n",
       " 'series': [],\n",
       " 'country_code': 'US',\n",
       " 'language_code': '',\n",
       " 'popular_shelves': [{'count': '3', 'name': 'to-read'},\n",
       "  {'count': '1', 'name': 'p'},\n",
       "  {'count': '1', 'name': 'collection'},\n",
       "  {'count': '1', 'name': 'w-c-fields'},\n",
       "  {'count': '1', 'name': 'biography'}],\n",
       " 'asin': '',\n",
       " 'is_ebook': 'false',\n",
       " 'average_rating': '4.00',\n",
       " 'kindle_asin': '',\n",
       " 'similar_books': [],\n",
       " 'description': '',\n",
       " 'format': 'Paperback',\n",
       " 'link': 'https://www.goodreads.com/book/show/5333265-w-c-fields',\n",
       " 'authors': [{'author_id': '604031', 'role': ''}],\n",
       " 'publisher': \"St. Martin's Press\",\n",
       " 'num_pages': '256',\n",
       " 'publication_day': '1',\n",
       " 'isbn13': '9780312853129',\n",
       " 'publication_month': '9',\n",
       " 'edition_information': '',\n",
       " 'publication_year': '1984',\n",
       " 'url': 'https://www.goodreads.com/book/show/5333265-w-c-fields',\n",
       " 'image_url': 'https://images.gr-assets.com/books/1310220028m/5333265.jpg',\n",
       " 'book_id': '5333265',\n",
       " 'ratings_count': '3',\n",
       " 'work_id': '5400751',\n",
       " 'title': 'W.C. Fields: A Life on Film',\n",
       " 'title_without_series': 'W.C. Fields: A Life on Film'}"
      ]
     },
     "execution_count": 71,
     "metadata": {},
     "output_type": "execute_result"
    }
   ],
   "source": [
    "# load json line\n",
    "import json\n",
    "json.loads(line)\n",
    "# this returns a dictionary"
   ]
  },
  {
   "cell_type": "markdown",
   "id": "03a5669a",
   "metadata": {
    "papermill": {
     "duration": 0.018366,
     "end_time": "2022-12-22T11:26:37.393157",
     "exception": false,
     "start_time": "2022-12-22T11:26:37.374791",
     "status": "completed"
    },
    "tags": []
   },
   "source": [
    "# **PARSING BOOK METADATA**"
   ]
  },
  {
   "cell_type": "code",
   "execution_count": 72,
   "id": "c46b6abb",
   "metadata": {
    "execution": {
     "iopub.execute_input": "2022-12-22T11:26:37.432626Z",
     "iopub.status.busy": "2022-12-22T11:26:37.431483Z",
     "iopub.status.idle": "2022-12-22T11:26:37.437335Z",
     "shell.execute_reply": "2022-12-22T11:26:37.43639Z"
    },
    "papermill": {
     "duration": 0.02805,
     "end_time": "2022-12-22T11:26:37.439576",
     "exception": false,
     "start_time": "2022-12-22T11:26:37.411526",
     "status": "completed"
    },
    "tags": []
   },
   "outputs": [],
   "source": [
    "# go through a single line in metadata and pick fields we want\n",
    "def parse_fields(line):\n",
    "    data=json.loads(line)\n",
    "    return {\n",
    "        \"book_id\": data[\"book_id\"],\n",
    "        \"title\":data[\"title_without_series\"],\n",
    "        \"ratings\":data[\"ratings_count\"],\n",
    "        \"url\":data[\"url\"],\n",
    "        \"cover_image\":data[\"image_url\"]       \n",
    "    }"
   ]
  },
  {
   "cell_type": "code",
   "execution_count": 73,
   "id": "60d238d3",
   "metadata": {
    "execution": {
     "iopub.execute_input": "2022-12-22T11:26:37.479094Z",
     "iopub.status.busy": "2022-12-22T11:26:37.47805Z",
     "iopub.status.idle": "2022-12-22T11:29:50.471331Z",
     "shell.execute_reply": "2022-12-22T11:29:50.47019Z"
    },
    "papermill": {
     "duration": 193.016112,
     "end_time": "2022-12-22T11:29:50.474227",
     "exception": false,
     "start_time": "2022-12-22T11:26:37.458115",
     "status": "completed"
    },
    "tags": []
   },
   "outputs": [],
   "source": [
    "# go line by line, parsing each line\n",
    "books_titles = []\n",
    "with gzip.open(\"goodreads_books.json.gz\",\"r\") as f:\n",
    "    #read every single line\n",
    "    while True: \n",
    "        line = f.readline()\n",
    "        if not line:\n",
    "            break\n",
    "        fields = parse_fields(line)\n",
    "        try:\n",
    "# turn ratings into an integer \n",
    "# we want to take books that have more than a certain no. of ratings\n",
    "# we can filter them out as they are not likely to be recommended\n",
    "            ratings = int(fields[\"ratings\"])\n",
    "        except ValueError:\n",
    "            continue\n",
    "        if ratings > 15:\n",
    "            books_titles.append(fields) "
   ]
  },
  {
   "cell_type": "markdown",
   "id": "146d895b",
   "metadata": {
    "papermill": {
     "duration": 0.018042,
     "end_time": "2022-12-22T11:29:50.511428",
     "exception": false,
     "start_time": "2022-12-22T11:29:50.493386",
     "status": "completed"
    },
    "tags": []
   },
   "source": [
    "# **PROCESSING METADATA WITH PANDAS**\n"
   ]
  },
  {
   "cell_type": "code",
   "execution_count": 74,
   "id": "49bc6248",
   "metadata": {
    "execution": {
     "iopub.execute_input": "2022-12-22T11:29:50.54978Z",
     "iopub.status.busy": "2022-12-22T11:29:50.54938Z",
     "iopub.status.idle": "2022-12-22T11:29:52.237925Z",
     "shell.execute_reply": "2022-12-22T11:29:52.237038Z"
    },
    "papermill": {
     "duration": 1.710865,
     "end_time": "2022-12-22T11:29:52.240654",
     "exception": false,
     "start_time": "2022-12-22T11:29:50.529789",
     "status": "completed"
    },
    "tags": []
   },
   "outputs": [],
   "source": [
    "# turn into a dataframe\n",
    "titles = pd.DataFrame.from_dict(books_titles)"
   ]
  },
  {
   "cell_type": "code",
   "execution_count": 75,
   "id": "a7e99c10",
   "metadata": {
    "execution": {
     "iopub.execute_input": "2022-12-22T11:29:52.28117Z",
     "iopub.status.busy": "2022-12-22T11:29:52.279848Z",
     "iopub.status.idle": "2022-12-22T11:29:52.286177Z",
     "shell.execute_reply": "2022-12-22T11:29:52.285214Z"
    },
    "papermill": {
     "duration": 0.028942,
     "end_time": "2022-12-22T11:29:52.288648",
     "exception": false,
     "start_time": "2022-12-22T11:29:52.259706",
     "status": "completed"
    },
    "tags": []
   },
   "outputs": [],
   "source": [
    "pd.set_option('display.max_columns', None)\n",
    "pd.set_option('display.max_rows', None)"
   ]
  },
  {
   "cell_type": "code",
   "execution_count": 76,
   "id": "ab425fbe",
   "metadata": {
    "execution": {
     "iopub.execute_input": "2022-12-22T11:29:52.327769Z",
     "iopub.status.busy": "2022-12-22T11:29:52.326953Z",
     "iopub.status.idle": "2022-12-22T11:29:52.350129Z",
     "shell.execute_reply": "2022-12-22T11:29:52.349032Z"
    },
    "papermill": {
     "duration": 0.045495,
     "end_time": "2022-12-22T11:29:52.352598",
     "exception": false,
     "start_time": "2022-12-22T11:29:52.307103",
     "status": "completed"
    },
    "tags": []
   },
   "outputs": [
    {
     "data": {
      "text/html": [
       "<div>\n",
       "<style scoped>\n",
       "    .dataframe tbody tr th:only-of-type {\n",
       "        vertical-align: middle;\n",
       "    }\n",
       "\n",
       "    .dataframe tbody tr th {\n",
       "        vertical-align: top;\n",
       "    }\n",
       "\n",
       "    .dataframe thead th {\n",
       "        text-align: right;\n",
       "    }\n",
       "</style>\n",
       "<table border=\"1\" class=\"dataframe\">\n",
       "  <thead>\n",
       "    <tr style=\"text-align: right;\">\n",
       "      <th></th>\n",
       "      <th>book_id</th>\n",
       "      <th>title</th>\n",
       "      <th>ratings</th>\n",
       "      <th>url</th>\n",
       "      <th>cover_image</th>\n",
       "    </tr>\n",
       "  </thead>\n",
       "  <tbody>\n",
       "    <tr>\n",
       "      <th>0</th>\n",
       "      <td>7327624</td>\n",
       "      <td>The Unschooled Wizard (Sun Wolf and Starhawk, ...</td>\n",
       "      <td>140</td>\n",
       "      <td>https://www.goodreads.com/book/show/7327624-th...</td>\n",
       "      <td>https://images.gr-assets.com/books/1304100136m...</td>\n",
       "    </tr>\n",
       "    <tr>\n",
       "      <th>1</th>\n",
       "      <td>6066819</td>\n",
       "      <td>Best Friends Forever</td>\n",
       "      <td>51184</td>\n",
       "      <td>https://www.goodreads.com/book/show/6066819-be...</td>\n",
       "      <td>https://s.gr-assets.com/assets/nophoto/book/11...</td>\n",
       "    </tr>\n",
       "    <tr>\n",
       "      <th>2</th>\n",
       "      <td>287141</td>\n",
       "      <td>The Aeneid for Boys and Girls</td>\n",
       "      <td>46</td>\n",
       "      <td>https://www.goodreads.com/book/show/287141.The...</td>\n",
       "      <td>https://s.gr-assets.com/assets/nophoto/book/11...</td>\n",
       "    </tr>\n",
       "    <tr>\n",
       "      <th>3</th>\n",
       "      <td>6066812</td>\n",
       "      <td>All's Fairy in Love and War (Avalon: Web of Ma...</td>\n",
       "      <td>98</td>\n",
       "      <td>https://www.goodreads.com/book/show/6066812-al...</td>\n",
       "      <td>https://images.gr-assets.com/books/1316637798m...</td>\n",
       "    </tr>\n",
       "    <tr>\n",
       "      <th>4</th>\n",
       "      <td>287149</td>\n",
       "      <td>The Devil's Notebook</td>\n",
       "      <td>986</td>\n",
       "      <td>https://www.goodreads.com/book/show/287149.The...</td>\n",
       "      <td>https://images.gr-assets.com/books/1328768789m...</td>\n",
       "    </tr>\n",
       "    <tr>\n",
       "      <th>5</th>\n",
       "      <td>6066814</td>\n",
       "      <td>Crowner Royal (Crowner John Mystery, #13)</td>\n",
       "      <td>186</td>\n",
       "      <td>https://www.goodreads.com/book/show/6066814-cr...</td>\n",
       "      <td>https://images.gr-assets.com/books/1328724803m...</td>\n",
       "    </tr>\n",
       "    <tr>\n",
       "      <th>6</th>\n",
       "      <td>33394837</td>\n",
       "      <td>The House of Memory (Pluto's Snitch #2)</td>\n",
       "      <td>269</td>\n",
       "      <td>https://www.goodreads.com/book/show/33394837-t...</td>\n",
       "      <td>https://images.gr-assets.com/books/1493114742m...</td>\n",
       "    </tr>\n",
       "    <tr>\n",
       "      <th>7</th>\n",
       "      <td>89373</td>\n",
       "      <td>The Bonfire of the Vanities</td>\n",
       "      <td>77</td>\n",
       "      <td>https://www.goodreads.com/book/show/89373.The_...</td>\n",
       "      <td>https://s.gr-assets.com/assets/nophoto/book/11...</td>\n",
       "    </tr>\n",
       "    <tr>\n",
       "      <th>8</th>\n",
       "      <td>89375</td>\n",
       "      <td>90 Minutes in Heaven: A True Story of Death an...</td>\n",
       "      <td>68157</td>\n",
       "      <td>https://www.goodreads.com/book/show/89375.90_M...</td>\n",
       "      <td>https://s.gr-assets.com/assets/nophoto/book/11...</td>\n",
       "    </tr>\n",
       "    <tr>\n",
       "      <th>9</th>\n",
       "      <td>89376</td>\n",
       "      <td>Heaven</td>\n",
       "      <td>7345</td>\n",
       "      <td>https://www.goodreads.com/book/show/89376.Heaven</td>\n",
       "      <td>https://images.gr-assets.com/books/1406508230m...</td>\n",
       "    </tr>\n",
       "    <tr>\n",
       "      <th>10</th>\n",
       "      <td>89377</td>\n",
       "      <td>Penny from Heaven</td>\n",
       "      <td>6949</td>\n",
       "      <td>https://www.goodreads.com/book/show/89377.Penn...</td>\n",
       "      <td>https://images.gr-assets.com/books/1320470906m...</td>\n",
       "    </tr>\n",
       "    <tr>\n",
       "      <th>11</th>\n",
       "      <td>89378</td>\n",
       "      <td>Dog Heaven</td>\n",
       "      <td>1331</td>\n",
       "      <td>https://www.goodreads.com/book/show/89378.Dog_...</td>\n",
       "      <td>https://images.gr-assets.com/books/1360057676m...</td>\n",
       "    </tr>\n",
       "    <tr>\n",
       "      <th>12</th>\n",
       "      <td>21401188</td>\n",
       "      <td>Glimmering Light</td>\n",
       "      <td>72</td>\n",
       "      <td>https://www.goodreads.com/book/show/21401188-g...</td>\n",
       "      <td>https://images.gr-assets.com/books/1395067717m...</td>\n",
       "    </tr>\n",
       "    <tr>\n",
       "      <th>13</th>\n",
       "      <td>7203847</td>\n",
       "      <td>The Tommyknockers</td>\n",
       "      <td>45</td>\n",
       "      <td>https://www.goodreads.com/book/show/7203847-th...</td>\n",
       "      <td>https://s.gr-assets.com/assets/nophoto/book/11...</td>\n",
       "    </tr>\n",
       "    <tr>\n",
       "      <th>14</th>\n",
       "      <td>6158967</td>\n",
       "      <td>Crude World: The Violent Twilight of Oil</td>\n",
       "      <td>338</td>\n",
       "      <td>https://www.goodreads.com/book/show/6158967-cr...</td>\n",
       "      <td>https://images.gr-assets.com/books/1320556043m...</td>\n",
       "    </tr>\n",
       "  </tbody>\n",
       "</table>\n",
       "</div>"
      ],
      "text/plain": [
       "     book_id                                              title ratings  \\\n",
       "0    7327624  The Unschooled Wizard (Sun Wolf and Starhawk, ...     140   \n",
       "1    6066819                               Best Friends Forever   51184   \n",
       "2     287141                      The Aeneid for Boys and Girls      46   \n",
       "3    6066812  All's Fairy in Love and War (Avalon: Web of Ma...      98   \n",
       "4     287149                               The Devil's Notebook     986   \n",
       "5    6066814          Crowner Royal (Crowner John Mystery, #13)     186   \n",
       "6   33394837            The House of Memory (Pluto's Snitch #2)     269   \n",
       "7      89373                        The Bonfire of the Vanities      77   \n",
       "8      89375  90 Minutes in Heaven: A True Story of Death an...   68157   \n",
       "9      89376                                             Heaven    7345   \n",
       "10     89377                                  Penny from Heaven    6949   \n",
       "11     89378                                         Dog Heaven    1331   \n",
       "12  21401188                                   Glimmering Light      72   \n",
       "13   7203847                                  The Tommyknockers      45   \n",
       "14   6158967           Crude World: The Violent Twilight of Oil     338   \n",
       "\n",
       "                                                  url  \\\n",
       "0   https://www.goodreads.com/book/show/7327624-th...   \n",
       "1   https://www.goodreads.com/book/show/6066819-be...   \n",
       "2   https://www.goodreads.com/book/show/287141.The...   \n",
       "3   https://www.goodreads.com/book/show/6066812-al...   \n",
       "4   https://www.goodreads.com/book/show/287149.The...   \n",
       "5   https://www.goodreads.com/book/show/6066814-cr...   \n",
       "6   https://www.goodreads.com/book/show/33394837-t...   \n",
       "7   https://www.goodreads.com/book/show/89373.The_...   \n",
       "8   https://www.goodreads.com/book/show/89375.90_M...   \n",
       "9    https://www.goodreads.com/book/show/89376.Heaven   \n",
       "10  https://www.goodreads.com/book/show/89377.Penn...   \n",
       "11  https://www.goodreads.com/book/show/89378.Dog_...   \n",
       "12  https://www.goodreads.com/book/show/21401188-g...   \n",
       "13  https://www.goodreads.com/book/show/7203847-th...   \n",
       "14  https://www.goodreads.com/book/show/6158967-cr...   \n",
       "\n",
       "                                          cover_image  \n",
       "0   https://images.gr-assets.com/books/1304100136m...  \n",
       "1   https://s.gr-assets.com/assets/nophoto/book/11...  \n",
       "2   https://s.gr-assets.com/assets/nophoto/book/11...  \n",
       "3   https://images.gr-assets.com/books/1316637798m...  \n",
       "4   https://images.gr-assets.com/books/1328768789m...  \n",
       "5   https://images.gr-assets.com/books/1328724803m...  \n",
       "6   https://images.gr-assets.com/books/1493114742m...  \n",
       "7   https://s.gr-assets.com/assets/nophoto/book/11...  \n",
       "8   https://s.gr-assets.com/assets/nophoto/book/11...  \n",
       "9   https://images.gr-assets.com/books/1406508230m...  \n",
       "10  https://images.gr-assets.com/books/1320470906m...  \n",
       "11  https://images.gr-assets.com/books/1360057676m...  \n",
       "12  https://images.gr-assets.com/books/1395067717m...  \n",
       "13  https://s.gr-assets.com/assets/nophoto/book/11...  \n",
       "14  https://images.gr-assets.com/books/1320556043m...  "
      ]
     },
     "execution_count": 76,
     "metadata": {},
     "output_type": "execute_result"
    }
   ],
   "source": [
    "titles.head(15)"
   ]
  },
  {
   "cell_type": "code",
   "execution_count": 77,
   "id": "c2b3f8fb",
   "metadata": {
    "execution": {
     "iopub.execute_input": "2022-12-22T11:29:52.392924Z",
     "iopub.status.busy": "2022-12-22T11:29:52.391958Z",
     "iopub.status.idle": "2022-12-22T11:29:52.998924Z",
     "shell.execute_reply": "2022-12-22T11:29:52.997356Z"
    },
    "papermill": {
     "duration": 0.629492,
     "end_time": "2022-12-22T11:29:53.001505",
     "exception": false,
     "start_time": "2022-12-22T11:29:52.372013",
     "status": "completed"
    },
    "tags": []
   },
   "outputs": [
    {
     "name": "stdout",
     "output_type": "stream",
     "text": [
      "<class 'pandas.core.frame.DataFrame'>\n",
      "RangeIndex: 1308957 entries, 0 to 1308956\n",
      "Data columns (total 5 columns):\n",
      " #   Column       Non-Null Count    Dtype \n",
      "---  ------       --------------    ----- \n",
      " 0   book_id      1308957 non-null  object\n",
      " 1   title        1308957 non-null  object\n",
      " 2   ratings      1308957 non-null  object\n",
      " 3   url          1308957 non-null  object\n",
      " 4   cover_image  1308957 non-null  object\n",
      "dtypes: object(5)\n",
      "memory usage: 49.9+ MB\n"
     ]
    }
   ],
   "source": [
    "titles.info()"
   ]
  },
  {
   "cell_type": "code",
   "execution_count": 78,
   "id": "dc872d6a",
   "metadata": {
    "execution": {
     "iopub.execute_input": "2022-12-22T11:29:53.041473Z",
     "iopub.status.busy": "2022-12-22T11:29:53.04049Z",
     "iopub.status.idle": "2022-12-22T11:29:53.902058Z",
     "shell.execute_reply": "2022-12-22T11:29:53.900886Z"
    },
    "papermill": {
     "duration": 0.884255,
     "end_time": "2022-12-22T11:29:53.904819",
     "exception": false,
     "start_time": "2022-12-22T11:29:53.020564",
     "status": "completed"
    },
    "tags": []
   },
   "outputs": [],
   "source": [
    "# ratings column is an object yet should be numeric\n",
    "titles[\"ratings\"]=pd.to_numeric(titles[\"ratings\"])"
   ]
  },
  {
   "cell_type": "code",
   "execution_count": 79,
   "id": "7a34dd4e",
   "metadata": {
    "execution": {
     "iopub.execute_input": "2022-12-22T11:29:53.944182Z",
     "iopub.status.busy": "2022-12-22T11:29:53.943734Z",
     "iopub.status.idle": "2022-12-22T11:29:54.02323Z",
     "shell.execute_reply": "2022-12-22T11:29:54.022061Z"
    },
    "papermill": {
     "duration": 0.101683,
     "end_time": "2022-12-22T11:29:54.025449",
     "exception": false,
     "start_time": "2022-12-22T11:29:53.923766",
     "status": "completed"
    },
    "tags": []
   },
   "outputs": [
    {
     "data": {
      "text/html": [
       "<div>\n",
       "<style scoped>\n",
       "    .dataframe tbody tr th:only-of-type {\n",
       "        vertical-align: middle;\n",
       "    }\n",
       "\n",
       "    .dataframe tbody tr th {\n",
       "        vertical-align: top;\n",
       "    }\n",
       "\n",
       "    .dataframe thead th {\n",
       "        text-align: right;\n",
       "    }\n",
       "</style>\n",
       "<table border=\"1\" class=\"dataframe\">\n",
       "  <thead>\n",
       "    <tr style=\"text-align: right;\">\n",
       "      <th></th>\n",
       "      <th>ratings</th>\n",
       "    </tr>\n",
       "  </thead>\n",
       "  <tbody>\n",
       "    <tr>\n",
       "      <th>count</th>\n",
       "      <td>1.308957e+06</td>\n",
       "    </tr>\n",
       "    <tr>\n",
       "      <th>mean</th>\n",
       "      <td>7.279124e+02</td>\n",
       "    </tr>\n",
       "    <tr>\n",
       "      <th>std</th>\n",
       "      <td>1.493248e+04</td>\n",
       "    </tr>\n",
       "    <tr>\n",
       "      <th>min</th>\n",
       "      <td>1.600000e+01</td>\n",
       "    </tr>\n",
       "    <tr>\n",
       "      <th>25%</th>\n",
       "      <td>3.000000e+01</td>\n",
       "    </tr>\n",
       "    <tr>\n",
       "      <th>50%</th>\n",
       "      <td>6.400000e+01</td>\n",
       "    </tr>\n",
       "    <tr>\n",
       "      <th>75%</th>\n",
       "      <td>1.870000e+02</td>\n",
       "    </tr>\n",
       "    <tr>\n",
       "      <th>max</th>\n",
       "      <td>4.899965e+06</td>\n",
       "    </tr>\n",
       "  </tbody>\n",
       "</table>\n",
       "</div>"
      ],
      "text/plain": [
       "            ratings\n",
       "count  1.308957e+06\n",
       "mean   7.279124e+02\n",
       "std    1.493248e+04\n",
       "min    1.600000e+01\n",
       "25%    3.000000e+01\n",
       "50%    6.400000e+01\n",
       "75%    1.870000e+02\n",
       "max    4.899965e+06"
      ]
     },
     "execution_count": 79,
     "metadata": {},
     "output_type": "execute_result"
    }
   ],
   "source": [
    "titles.describe()"
   ]
  },
  {
   "cell_type": "code",
   "execution_count": 80,
   "id": "aa2f5d39",
   "metadata": {
    "execution": {
     "iopub.execute_input": "2022-12-22T11:29:54.065506Z",
     "iopub.status.busy": "2022-12-22T11:29:54.065127Z",
     "iopub.status.idle": "2022-12-22T11:29:54.51732Z",
     "shell.execute_reply": "2022-12-22T11:29:54.516239Z"
    },
    "papermill": {
     "duration": 0.474847,
     "end_time": "2022-12-22T11:29:54.519704",
     "exception": false,
     "start_time": "2022-12-22T11:29:54.044857",
     "status": "completed"
    },
    "tags": []
   },
   "outputs": [
    {
     "data": {
      "text/plain": [
       "book_id        0.0\n",
       "title          0.0\n",
       "ratings        0.0\n",
       "url            0.0\n",
       "cover_image    0.0\n",
       "dtype: float64"
      ]
     },
     "execution_count": 80,
     "metadata": {},
     "output_type": "execute_result"
    }
   ],
   "source": [
    "titles.isnull().mean()"
   ]
  },
  {
   "cell_type": "code",
   "execution_count": 81,
   "id": "b263d2f2",
   "metadata": {
    "execution": {
     "iopub.execute_input": "2022-12-22T11:29:54.560041Z",
     "iopub.status.busy": "2022-12-22T11:29:54.559642Z",
     "iopub.status.idle": "2022-12-22T11:29:56.829727Z",
     "shell.execute_reply": "2022-12-22T11:29:56.828572Z"
    },
    "papermill": {
     "duration": 2.293503,
     "end_time": "2022-12-22T11:29:56.832428",
     "exception": false,
     "start_time": "2022-12-22T11:29:54.538925",
     "status": "completed"
    },
    "tags": []
   },
   "outputs": [],
   "source": [
    "# modify title to minimize search space for the search engine\n",
    "# replace any characters that don't fall within a certain set lowercase,uppercase,numerals or space\n",
    "titles[\"mod_title\"]=titles[\"title\"].str.replace(\"[^a-zA-Z0-9 ]\",\"\",regex=True)"
   ]
  },
  {
   "cell_type": "code",
   "execution_count": 82,
   "id": "60639072",
   "metadata": {
    "execution": {
     "iopub.execute_input": "2022-12-22T11:29:56.872813Z",
     "iopub.status.busy": "2022-12-22T11:29:56.872394Z",
     "iopub.status.idle": "2022-12-22T11:29:56.88805Z",
     "shell.execute_reply": "2022-12-22T11:29:56.886971Z"
    },
    "papermill": {
     "duration": 0.03851,
     "end_time": "2022-12-22T11:29:56.890416",
     "exception": false,
     "start_time": "2022-12-22T11:29:56.851906",
     "status": "completed"
    },
    "tags": []
   },
   "outputs": [
    {
     "data": {
      "text/html": [
       "<div>\n",
       "<style scoped>\n",
       "    .dataframe tbody tr th:only-of-type {\n",
       "        vertical-align: middle;\n",
       "    }\n",
       "\n",
       "    .dataframe tbody tr th {\n",
       "        vertical-align: top;\n",
       "    }\n",
       "\n",
       "    .dataframe thead th {\n",
       "        text-align: right;\n",
       "    }\n",
       "</style>\n",
       "<table border=\"1\" class=\"dataframe\">\n",
       "  <thead>\n",
       "    <tr style=\"text-align: right;\">\n",
       "      <th></th>\n",
       "      <th>book_id</th>\n",
       "      <th>title</th>\n",
       "      <th>ratings</th>\n",
       "      <th>url</th>\n",
       "      <th>cover_image</th>\n",
       "      <th>mod_title</th>\n",
       "    </tr>\n",
       "  </thead>\n",
       "  <tbody>\n",
       "    <tr>\n",
       "      <th>0</th>\n",
       "      <td>7327624</td>\n",
       "      <td>The Unschooled Wizard (Sun Wolf and Starhawk, ...</td>\n",
       "      <td>140</td>\n",
       "      <td>https://www.goodreads.com/book/show/7327624-th...</td>\n",
       "      <td>https://images.gr-assets.com/books/1304100136m...</td>\n",
       "      <td>The Unschooled Wizard Sun Wolf and Starhawk 12</td>\n",
       "    </tr>\n",
       "    <tr>\n",
       "      <th>1</th>\n",
       "      <td>6066819</td>\n",
       "      <td>Best Friends Forever</td>\n",
       "      <td>51184</td>\n",
       "      <td>https://www.goodreads.com/book/show/6066819-be...</td>\n",
       "      <td>https://s.gr-assets.com/assets/nophoto/book/11...</td>\n",
       "      <td>Best Friends Forever</td>\n",
       "    </tr>\n",
       "    <tr>\n",
       "      <th>2</th>\n",
       "      <td>287141</td>\n",
       "      <td>The Aeneid for Boys and Girls</td>\n",
       "      <td>46</td>\n",
       "      <td>https://www.goodreads.com/book/show/287141.The...</td>\n",
       "      <td>https://s.gr-assets.com/assets/nophoto/book/11...</td>\n",
       "      <td>The Aeneid for Boys and Girls</td>\n",
       "    </tr>\n",
       "    <tr>\n",
       "      <th>3</th>\n",
       "      <td>6066812</td>\n",
       "      <td>All's Fairy in Love and War (Avalon: Web of Ma...</td>\n",
       "      <td>98</td>\n",
       "      <td>https://www.goodreads.com/book/show/6066812-al...</td>\n",
       "      <td>https://images.gr-assets.com/books/1316637798m...</td>\n",
       "      <td>Alls Fairy in Love and War Avalon Web of Magic 8</td>\n",
       "    </tr>\n",
       "    <tr>\n",
       "      <th>4</th>\n",
       "      <td>287149</td>\n",
       "      <td>The Devil's Notebook</td>\n",
       "      <td>986</td>\n",
       "      <td>https://www.goodreads.com/book/show/287149.The...</td>\n",
       "      <td>https://images.gr-assets.com/books/1328768789m...</td>\n",
       "      <td>The Devils Notebook</td>\n",
       "    </tr>\n",
       "    <tr>\n",
       "      <th>5</th>\n",
       "      <td>6066814</td>\n",
       "      <td>Crowner Royal (Crowner John Mystery, #13)</td>\n",
       "      <td>186</td>\n",
       "      <td>https://www.goodreads.com/book/show/6066814-cr...</td>\n",
       "      <td>https://images.gr-assets.com/books/1328724803m...</td>\n",
       "      <td>Crowner Royal Crowner John Mystery 13</td>\n",
       "    </tr>\n",
       "    <tr>\n",
       "      <th>6</th>\n",
       "      <td>33394837</td>\n",
       "      <td>The House of Memory (Pluto's Snitch #2)</td>\n",
       "      <td>269</td>\n",
       "      <td>https://www.goodreads.com/book/show/33394837-t...</td>\n",
       "      <td>https://images.gr-assets.com/books/1493114742m...</td>\n",
       "      <td>The House of Memory Plutos Snitch 2</td>\n",
       "    </tr>\n",
       "    <tr>\n",
       "      <th>7</th>\n",
       "      <td>89373</td>\n",
       "      <td>The Bonfire of the Vanities</td>\n",
       "      <td>77</td>\n",
       "      <td>https://www.goodreads.com/book/show/89373.The_...</td>\n",
       "      <td>https://s.gr-assets.com/assets/nophoto/book/11...</td>\n",
       "      <td>The Bonfire of the Vanities</td>\n",
       "    </tr>\n",
       "    <tr>\n",
       "      <th>8</th>\n",
       "      <td>89375</td>\n",
       "      <td>90 Minutes in Heaven: A True Story of Death an...</td>\n",
       "      <td>68157</td>\n",
       "      <td>https://www.goodreads.com/book/show/89375.90_M...</td>\n",
       "      <td>https://s.gr-assets.com/assets/nophoto/book/11...</td>\n",
       "      <td>90 Minutes in Heaven A True Story of Death and...</td>\n",
       "    </tr>\n",
       "    <tr>\n",
       "      <th>9</th>\n",
       "      <td>89376</td>\n",
       "      <td>Heaven</td>\n",
       "      <td>7345</td>\n",
       "      <td>https://www.goodreads.com/book/show/89376.Heaven</td>\n",
       "      <td>https://images.gr-assets.com/books/1406508230m...</td>\n",
       "      <td>Heaven</td>\n",
       "    </tr>\n",
       "    <tr>\n",
       "      <th>10</th>\n",
       "      <td>89377</td>\n",
       "      <td>Penny from Heaven</td>\n",
       "      <td>6949</td>\n",
       "      <td>https://www.goodreads.com/book/show/89377.Penn...</td>\n",
       "      <td>https://images.gr-assets.com/books/1320470906m...</td>\n",
       "      <td>Penny from Heaven</td>\n",
       "    </tr>\n",
       "    <tr>\n",
       "      <th>11</th>\n",
       "      <td>89378</td>\n",
       "      <td>Dog Heaven</td>\n",
       "      <td>1331</td>\n",
       "      <td>https://www.goodreads.com/book/show/89378.Dog_...</td>\n",
       "      <td>https://images.gr-assets.com/books/1360057676m...</td>\n",
       "      <td>Dog Heaven</td>\n",
       "    </tr>\n",
       "    <tr>\n",
       "      <th>12</th>\n",
       "      <td>21401188</td>\n",
       "      <td>Glimmering Light</td>\n",
       "      <td>72</td>\n",
       "      <td>https://www.goodreads.com/book/show/21401188-g...</td>\n",
       "      <td>https://images.gr-assets.com/books/1395067717m...</td>\n",
       "      <td>Glimmering Light</td>\n",
       "    </tr>\n",
       "    <tr>\n",
       "      <th>13</th>\n",
       "      <td>7203847</td>\n",
       "      <td>The Tommyknockers</td>\n",
       "      <td>45</td>\n",
       "      <td>https://www.goodreads.com/book/show/7203847-th...</td>\n",
       "      <td>https://s.gr-assets.com/assets/nophoto/book/11...</td>\n",
       "      <td>The Tommyknockers</td>\n",
       "    </tr>\n",
       "    <tr>\n",
       "      <th>14</th>\n",
       "      <td>6158967</td>\n",
       "      <td>Crude World: The Violent Twilight of Oil</td>\n",
       "      <td>338</td>\n",
       "      <td>https://www.goodreads.com/book/show/6158967-cr...</td>\n",
       "      <td>https://images.gr-assets.com/books/1320556043m...</td>\n",
       "      <td>Crude World The Violent Twilight of Oil</td>\n",
       "    </tr>\n",
       "  </tbody>\n",
       "</table>\n",
       "</div>"
      ],
      "text/plain": [
       "     book_id                                              title  ratings  \\\n",
       "0    7327624  The Unschooled Wizard (Sun Wolf and Starhawk, ...      140   \n",
       "1    6066819                               Best Friends Forever    51184   \n",
       "2     287141                      The Aeneid for Boys and Girls       46   \n",
       "3    6066812  All's Fairy in Love and War (Avalon: Web of Ma...       98   \n",
       "4     287149                               The Devil's Notebook      986   \n",
       "5    6066814          Crowner Royal (Crowner John Mystery, #13)      186   \n",
       "6   33394837            The House of Memory (Pluto's Snitch #2)      269   \n",
       "7      89373                        The Bonfire of the Vanities       77   \n",
       "8      89375  90 Minutes in Heaven: A True Story of Death an...    68157   \n",
       "9      89376                                             Heaven     7345   \n",
       "10     89377                                  Penny from Heaven     6949   \n",
       "11     89378                                         Dog Heaven     1331   \n",
       "12  21401188                                   Glimmering Light       72   \n",
       "13   7203847                                  The Tommyknockers       45   \n",
       "14   6158967           Crude World: The Violent Twilight of Oil      338   \n",
       "\n",
       "                                                  url  \\\n",
       "0   https://www.goodreads.com/book/show/7327624-th...   \n",
       "1   https://www.goodreads.com/book/show/6066819-be...   \n",
       "2   https://www.goodreads.com/book/show/287141.The...   \n",
       "3   https://www.goodreads.com/book/show/6066812-al...   \n",
       "4   https://www.goodreads.com/book/show/287149.The...   \n",
       "5   https://www.goodreads.com/book/show/6066814-cr...   \n",
       "6   https://www.goodreads.com/book/show/33394837-t...   \n",
       "7   https://www.goodreads.com/book/show/89373.The_...   \n",
       "8   https://www.goodreads.com/book/show/89375.90_M...   \n",
       "9    https://www.goodreads.com/book/show/89376.Heaven   \n",
       "10  https://www.goodreads.com/book/show/89377.Penn...   \n",
       "11  https://www.goodreads.com/book/show/89378.Dog_...   \n",
       "12  https://www.goodreads.com/book/show/21401188-g...   \n",
       "13  https://www.goodreads.com/book/show/7203847-th...   \n",
       "14  https://www.goodreads.com/book/show/6158967-cr...   \n",
       "\n",
       "                                          cover_image  \\\n",
       "0   https://images.gr-assets.com/books/1304100136m...   \n",
       "1   https://s.gr-assets.com/assets/nophoto/book/11...   \n",
       "2   https://s.gr-assets.com/assets/nophoto/book/11...   \n",
       "3   https://images.gr-assets.com/books/1316637798m...   \n",
       "4   https://images.gr-assets.com/books/1328768789m...   \n",
       "5   https://images.gr-assets.com/books/1328724803m...   \n",
       "6   https://images.gr-assets.com/books/1493114742m...   \n",
       "7   https://s.gr-assets.com/assets/nophoto/book/11...   \n",
       "8   https://s.gr-assets.com/assets/nophoto/book/11...   \n",
       "9   https://images.gr-assets.com/books/1406508230m...   \n",
       "10  https://images.gr-assets.com/books/1320470906m...   \n",
       "11  https://images.gr-assets.com/books/1360057676m...   \n",
       "12  https://images.gr-assets.com/books/1395067717m...   \n",
       "13  https://s.gr-assets.com/assets/nophoto/book/11...   \n",
       "14  https://images.gr-assets.com/books/1320556043m...   \n",
       "\n",
       "                                            mod_title  \n",
       "0      The Unschooled Wizard Sun Wolf and Starhawk 12  \n",
       "1                                Best Friends Forever  \n",
       "2                       The Aeneid for Boys and Girls  \n",
       "3    Alls Fairy in Love and War Avalon Web of Magic 8  \n",
       "4                                 The Devils Notebook  \n",
       "5               Crowner Royal Crowner John Mystery 13  \n",
       "6                 The House of Memory Plutos Snitch 2  \n",
       "7                         The Bonfire of the Vanities  \n",
       "8   90 Minutes in Heaven A True Story of Death and...  \n",
       "9                                              Heaven  \n",
       "10                                  Penny from Heaven  \n",
       "11                                         Dog Heaven  \n",
       "12                                   Glimmering Light  \n",
       "13                                  The Tommyknockers  \n",
       "14            Crude World The Violent Twilight of Oil  "
      ]
     },
     "execution_count": 82,
     "metadata": {},
     "output_type": "execute_result"
    }
   ],
   "source": [
    "titles.head(15)"
   ]
  },
  {
   "cell_type": "code",
   "execution_count": 83,
   "id": "d4469be2",
   "metadata": {
    "execution": {
     "iopub.execute_input": "2022-12-22T11:29:56.931822Z",
     "iopub.status.busy": "2022-12-22T11:29:56.931431Z",
     "iopub.status.idle": "2022-12-22T11:29:57.69439Z",
     "shell.execute_reply": "2022-12-22T11:29:57.693303Z"
    },
    "papermill": {
     "duration": 0.786687,
     "end_time": "2022-12-22T11:29:57.697004",
     "exception": false,
     "start_time": "2022-12-22T11:29:56.910317",
     "status": "completed"
    },
    "tags": []
   },
   "outputs": [],
   "source": [
    "# make lowercase title\n",
    "titles[\"mod_title\"] = titles[\"mod_title\"].str.lower()"
   ]
  },
  {
   "cell_type": "code",
   "execution_count": 84,
   "id": "0853e760",
   "metadata": {
    "execution": {
     "iopub.execute_input": "2022-12-22T11:29:57.738398Z",
     "iopub.status.busy": "2022-12-22T11:29:57.737975Z",
     "iopub.status.idle": "2022-12-22T11:30:01.27318Z",
     "shell.execute_reply": "2022-12-22T11:30:01.272Z"
    },
    "papermill": {
     "duration": 3.559668,
     "end_time": "2022-12-22T11:30:01.276671",
     "exception": false,
     "start_time": "2022-12-22T11:29:57.717003",
     "status": "completed"
    },
    "tags": []
   },
   "outputs": [],
   "source": [
    "# get rid of spaces in a row\n",
    "# any spaces in a row, replacece with a single space\n",
    "titles[\"mod_title\"] = titles[\"mod_title\"].str.replace(\"\\s+\",\" \",regex=True)"
   ]
  },
  {
   "cell_type": "code",
   "execution_count": 85,
   "id": "47602f47",
   "metadata": {
    "execution": {
     "iopub.execute_input": "2022-12-22T11:30:01.323299Z",
     "iopub.status.busy": "2022-12-22T11:30:01.322858Z",
     "iopub.status.idle": "2022-12-22T11:30:01.339678Z",
     "shell.execute_reply": "2022-12-22T11:30:01.338505Z"
    },
    "papermill": {
     "duration": 0.040889,
     "end_time": "2022-12-22T11:30:01.342364",
     "exception": false,
     "start_time": "2022-12-22T11:30:01.301475",
     "status": "completed"
    },
    "tags": []
   },
   "outputs": [
    {
     "data": {
      "text/html": [
       "<div>\n",
       "<style scoped>\n",
       "    .dataframe tbody tr th:only-of-type {\n",
       "        vertical-align: middle;\n",
       "    }\n",
       "\n",
       "    .dataframe tbody tr th {\n",
       "        vertical-align: top;\n",
       "    }\n",
       "\n",
       "    .dataframe thead th {\n",
       "        text-align: right;\n",
       "    }\n",
       "</style>\n",
       "<table border=\"1\" class=\"dataframe\">\n",
       "  <thead>\n",
       "    <tr style=\"text-align: right;\">\n",
       "      <th></th>\n",
       "      <th>book_id</th>\n",
       "      <th>title</th>\n",
       "      <th>ratings</th>\n",
       "      <th>url</th>\n",
       "      <th>cover_image</th>\n",
       "      <th>mod_title</th>\n",
       "    </tr>\n",
       "  </thead>\n",
       "  <tbody>\n",
       "    <tr>\n",
       "      <th>0</th>\n",
       "      <td>7327624</td>\n",
       "      <td>The Unschooled Wizard (Sun Wolf and Starhawk, ...</td>\n",
       "      <td>140</td>\n",
       "      <td>https://www.goodreads.com/book/show/7327624-th...</td>\n",
       "      <td>https://images.gr-assets.com/books/1304100136m...</td>\n",
       "      <td>the unschooled wizard sun wolf and starhawk 12</td>\n",
       "    </tr>\n",
       "    <tr>\n",
       "      <th>1</th>\n",
       "      <td>6066819</td>\n",
       "      <td>Best Friends Forever</td>\n",
       "      <td>51184</td>\n",
       "      <td>https://www.goodreads.com/book/show/6066819-be...</td>\n",
       "      <td>https://s.gr-assets.com/assets/nophoto/book/11...</td>\n",
       "      <td>best friends forever</td>\n",
       "    </tr>\n",
       "    <tr>\n",
       "      <th>2</th>\n",
       "      <td>287141</td>\n",
       "      <td>The Aeneid for Boys and Girls</td>\n",
       "      <td>46</td>\n",
       "      <td>https://www.goodreads.com/book/show/287141.The...</td>\n",
       "      <td>https://s.gr-assets.com/assets/nophoto/book/11...</td>\n",
       "      <td>the aeneid for boys and girls</td>\n",
       "    </tr>\n",
       "    <tr>\n",
       "      <th>3</th>\n",
       "      <td>6066812</td>\n",
       "      <td>All's Fairy in Love and War (Avalon: Web of Ma...</td>\n",
       "      <td>98</td>\n",
       "      <td>https://www.goodreads.com/book/show/6066812-al...</td>\n",
       "      <td>https://images.gr-assets.com/books/1316637798m...</td>\n",
       "      <td>alls fairy in love and war avalon web of magic 8</td>\n",
       "    </tr>\n",
       "    <tr>\n",
       "      <th>4</th>\n",
       "      <td>287149</td>\n",
       "      <td>The Devil's Notebook</td>\n",
       "      <td>986</td>\n",
       "      <td>https://www.goodreads.com/book/show/287149.The...</td>\n",
       "      <td>https://images.gr-assets.com/books/1328768789m...</td>\n",
       "      <td>the devils notebook</td>\n",
       "    </tr>\n",
       "    <tr>\n",
       "      <th>5</th>\n",
       "      <td>6066814</td>\n",
       "      <td>Crowner Royal (Crowner John Mystery, #13)</td>\n",
       "      <td>186</td>\n",
       "      <td>https://www.goodreads.com/book/show/6066814-cr...</td>\n",
       "      <td>https://images.gr-assets.com/books/1328724803m...</td>\n",
       "      <td>crowner royal crowner john mystery 13</td>\n",
       "    </tr>\n",
       "    <tr>\n",
       "      <th>6</th>\n",
       "      <td>33394837</td>\n",
       "      <td>The House of Memory (Pluto's Snitch #2)</td>\n",
       "      <td>269</td>\n",
       "      <td>https://www.goodreads.com/book/show/33394837-t...</td>\n",
       "      <td>https://images.gr-assets.com/books/1493114742m...</td>\n",
       "      <td>the house of memory plutos snitch 2</td>\n",
       "    </tr>\n",
       "    <tr>\n",
       "      <th>7</th>\n",
       "      <td>89373</td>\n",
       "      <td>The Bonfire of the Vanities</td>\n",
       "      <td>77</td>\n",
       "      <td>https://www.goodreads.com/book/show/89373.The_...</td>\n",
       "      <td>https://s.gr-assets.com/assets/nophoto/book/11...</td>\n",
       "      <td>the bonfire of the vanities</td>\n",
       "    </tr>\n",
       "    <tr>\n",
       "      <th>8</th>\n",
       "      <td>89375</td>\n",
       "      <td>90 Minutes in Heaven: A True Story of Death an...</td>\n",
       "      <td>68157</td>\n",
       "      <td>https://www.goodreads.com/book/show/89375.90_M...</td>\n",
       "      <td>https://s.gr-assets.com/assets/nophoto/book/11...</td>\n",
       "      <td>90 minutes in heaven a true story of death and...</td>\n",
       "    </tr>\n",
       "    <tr>\n",
       "      <th>9</th>\n",
       "      <td>89376</td>\n",
       "      <td>Heaven</td>\n",
       "      <td>7345</td>\n",
       "      <td>https://www.goodreads.com/book/show/89376.Heaven</td>\n",
       "      <td>https://images.gr-assets.com/books/1406508230m...</td>\n",
       "      <td>heaven</td>\n",
       "    </tr>\n",
       "    <tr>\n",
       "      <th>10</th>\n",
       "      <td>89377</td>\n",
       "      <td>Penny from Heaven</td>\n",
       "      <td>6949</td>\n",
       "      <td>https://www.goodreads.com/book/show/89377.Penn...</td>\n",
       "      <td>https://images.gr-assets.com/books/1320470906m...</td>\n",
       "      <td>penny from heaven</td>\n",
       "    </tr>\n",
       "    <tr>\n",
       "      <th>11</th>\n",
       "      <td>89378</td>\n",
       "      <td>Dog Heaven</td>\n",
       "      <td>1331</td>\n",
       "      <td>https://www.goodreads.com/book/show/89378.Dog_...</td>\n",
       "      <td>https://images.gr-assets.com/books/1360057676m...</td>\n",
       "      <td>dog heaven</td>\n",
       "    </tr>\n",
       "    <tr>\n",
       "      <th>12</th>\n",
       "      <td>21401188</td>\n",
       "      <td>Glimmering Light</td>\n",
       "      <td>72</td>\n",
       "      <td>https://www.goodreads.com/book/show/21401188-g...</td>\n",
       "      <td>https://images.gr-assets.com/books/1395067717m...</td>\n",
       "      <td>glimmering light</td>\n",
       "    </tr>\n",
       "    <tr>\n",
       "      <th>13</th>\n",
       "      <td>7203847</td>\n",
       "      <td>The Tommyknockers</td>\n",
       "      <td>45</td>\n",
       "      <td>https://www.goodreads.com/book/show/7203847-th...</td>\n",
       "      <td>https://s.gr-assets.com/assets/nophoto/book/11...</td>\n",
       "      <td>the tommyknockers</td>\n",
       "    </tr>\n",
       "    <tr>\n",
       "      <th>14</th>\n",
       "      <td>6158967</td>\n",
       "      <td>Crude World: The Violent Twilight of Oil</td>\n",
       "      <td>338</td>\n",
       "      <td>https://www.goodreads.com/book/show/6158967-cr...</td>\n",
       "      <td>https://images.gr-assets.com/books/1320556043m...</td>\n",
       "      <td>crude world the violent twilight of oil</td>\n",
       "    </tr>\n",
       "    <tr>\n",
       "      <th>15</th>\n",
       "      <td>12135833</td>\n",
       "      <td>Holding On</td>\n",
       "      <td>71</td>\n",
       "      <td>https://www.goodreads.com/book/show/12135833-h...</td>\n",
       "      <td>https://s.gr-assets.com/assets/nophoto/book/11...</td>\n",
       "      <td>holding on</td>\n",
       "    </tr>\n",
       "    <tr>\n",
       "      <th>16</th>\n",
       "      <td>18628482</td>\n",
       "      <td>Understand God's Word - Walk in the Truth</td>\n",
       "      <td>21</td>\n",
       "      <td>https://www.goodreads.com/book/show/18628482-u...</td>\n",
       "      <td>https://images.gr-assets.com/books/1380976928m...</td>\n",
       "      <td>understand gods word walk in the truth</td>\n",
       "    </tr>\n",
       "    <tr>\n",
       "      <th>17</th>\n",
       "      <td>29074697</td>\n",
       "      <td>The Slaughtered Virgin of Zenopolis (Inspector...</td>\n",
       "      <td>192</td>\n",
       "      <td>https://www.goodreads.com/book/show/29074697-t...</td>\n",
       "      <td>https://s.gr-assets.com/assets/nophoto/book/11...</td>\n",
       "      <td>the slaughtered virgin of zenopolis inspector ...</td>\n",
       "    </tr>\n",
       "    <tr>\n",
       "      <th>18</th>\n",
       "      <td>18628480</td>\n",
       "      <td>Stoner</td>\n",
       "      <td>116</td>\n",
       "      <td>https://www.goodreads.com/book/show/18628480-s...</td>\n",
       "      <td>https://images.gr-assets.com/books/1380976410m...</td>\n",
       "      <td>stoner</td>\n",
       "    </tr>\n",
       "    <tr>\n",
       "      <th>19</th>\n",
       "      <td>29074693</td>\n",
       "      <td>Prowled Darkness (Dante's Circle, #7)</td>\n",
       "      <td>149</td>\n",
       "      <td>https://www.goodreads.com/book/show/29074693-p...</td>\n",
       "      <td>https://s.gr-assets.com/assets/nophoto/book/11...</td>\n",
       "      <td>prowled darkness dantes circle 7</td>\n",
       "    </tr>\n",
       "  </tbody>\n",
       "</table>\n",
       "</div>"
      ],
      "text/plain": [
       "     book_id                                              title  ratings  \\\n",
       "0    7327624  The Unschooled Wizard (Sun Wolf and Starhawk, ...      140   \n",
       "1    6066819                               Best Friends Forever    51184   \n",
       "2     287141                      The Aeneid for Boys and Girls       46   \n",
       "3    6066812  All's Fairy in Love and War (Avalon: Web of Ma...       98   \n",
       "4     287149                               The Devil's Notebook      986   \n",
       "5    6066814          Crowner Royal (Crowner John Mystery, #13)      186   \n",
       "6   33394837            The House of Memory (Pluto's Snitch #2)      269   \n",
       "7      89373                        The Bonfire of the Vanities       77   \n",
       "8      89375  90 Minutes in Heaven: A True Story of Death an...    68157   \n",
       "9      89376                                             Heaven     7345   \n",
       "10     89377                                  Penny from Heaven     6949   \n",
       "11     89378                                         Dog Heaven     1331   \n",
       "12  21401188                                   Glimmering Light       72   \n",
       "13   7203847                                  The Tommyknockers       45   \n",
       "14   6158967           Crude World: The Violent Twilight of Oil      338   \n",
       "15  12135833                                         Holding On       71   \n",
       "16  18628482          Understand God's Word - Walk in the Truth       21   \n",
       "17  29074697  The Slaughtered Virgin of Zenopolis (Inspector...      192   \n",
       "18  18628480                                             Stoner      116   \n",
       "19  29074693              Prowled Darkness (Dante's Circle, #7)      149   \n",
       "\n",
       "                                                  url  \\\n",
       "0   https://www.goodreads.com/book/show/7327624-th...   \n",
       "1   https://www.goodreads.com/book/show/6066819-be...   \n",
       "2   https://www.goodreads.com/book/show/287141.The...   \n",
       "3   https://www.goodreads.com/book/show/6066812-al...   \n",
       "4   https://www.goodreads.com/book/show/287149.The...   \n",
       "5   https://www.goodreads.com/book/show/6066814-cr...   \n",
       "6   https://www.goodreads.com/book/show/33394837-t...   \n",
       "7   https://www.goodreads.com/book/show/89373.The_...   \n",
       "8   https://www.goodreads.com/book/show/89375.90_M...   \n",
       "9    https://www.goodreads.com/book/show/89376.Heaven   \n",
       "10  https://www.goodreads.com/book/show/89377.Penn...   \n",
       "11  https://www.goodreads.com/book/show/89378.Dog_...   \n",
       "12  https://www.goodreads.com/book/show/21401188-g...   \n",
       "13  https://www.goodreads.com/book/show/7203847-th...   \n",
       "14  https://www.goodreads.com/book/show/6158967-cr...   \n",
       "15  https://www.goodreads.com/book/show/12135833-h...   \n",
       "16  https://www.goodreads.com/book/show/18628482-u...   \n",
       "17  https://www.goodreads.com/book/show/29074697-t...   \n",
       "18  https://www.goodreads.com/book/show/18628480-s...   \n",
       "19  https://www.goodreads.com/book/show/29074693-p...   \n",
       "\n",
       "                                          cover_image  \\\n",
       "0   https://images.gr-assets.com/books/1304100136m...   \n",
       "1   https://s.gr-assets.com/assets/nophoto/book/11...   \n",
       "2   https://s.gr-assets.com/assets/nophoto/book/11...   \n",
       "3   https://images.gr-assets.com/books/1316637798m...   \n",
       "4   https://images.gr-assets.com/books/1328768789m...   \n",
       "5   https://images.gr-assets.com/books/1328724803m...   \n",
       "6   https://images.gr-assets.com/books/1493114742m...   \n",
       "7   https://s.gr-assets.com/assets/nophoto/book/11...   \n",
       "8   https://s.gr-assets.com/assets/nophoto/book/11...   \n",
       "9   https://images.gr-assets.com/books/1406508230m...   \n",
       "10  https://images.gr-assets.com/books/1320470906m...   \n",
       "11  https://images.gr-assets.com/books/1360057676m...   \n",
       "12  https://images.gr-assets.com/books/1395067717m...   \n",
       "13  https://s.gr-assets.com/assets/nophoto/book/11...   \n",
       "14  https://images.gr-assets.com/books/1320556043m...   \n",
       "15  https://s.gr-assets.com/assets/nophoto/book/11...   \n",
       "16  https://images.gr-assets.com/books/1380976928m...   \n",
       "17  https://s.gr-assets.com/assets/nophoto/book/11...   \n",
       "18  https://images.gr-assets.com/books/1380976410m...   \n",
       "19  https://s.gr-assets.com/assets/nophoto/book/11...   \n",
       "\n",
       "                                            mod_title  \n",
       "0      the unschooled wizard sun wolf and starhawk 12  \n",
       "1                                best friends forever  \n",
       "2                       the aeneid for boys and girls  \n",
       "3    alls fairy in love and war avalon web of magic 8  \n",
       "4                                 the devils notebook  \n",
       "5               crowner royal crowner john mystery 13  \n",
       "6                 the house of memory plutos snitch 2  \n",
       "7                         the bonfire of the vanities  \n",
       "8   90 minutes in heaven a true story of death and...  \n",
       "9                                              heaven  \n",
       "10                                  penny from heaven  \n",
       "11                                         dog heaven  \n",
       "12                                   glimmering light  \n",
       "13                                  the tommyknockers  \n",
       "14            crude world the violent twilight of oil  \n",
       "15                                         holding on  \n",
       "16             understand gods word walk in the truth  \n",
       "17  the slaughtered virgin of zenopolis inspector ...  \n",
       "18                                             stoner  \n",
       "19                   prowled darkness dantes circle 7  "
      ]
     },
     "execution_count": 85,
     "metadata": {},
     "output_type": "execute_result"
    }
   ],
   "source": [
    "titles.head(20)"
   ]
  },
  {
   "cell_type": "code",
   "execution_count": 86,
   "id": "0072b409",
   "metadata": {
    "execution": {
     "iopub.execute_input": "2022-12-22T11:30:01.392953Z",
     "iopub.status.busy": "2022-12-22T11:30:01.39257Z",
     "iopub.status.idle": "2022-12-22T11:30:02.597568Z",
     "shell.execute_reply": "2022-12-22T11:30:02.596626Z"
    },
    "papermill": {
     "duration": 1.237358,
     "end_time": "2022-12-22T11:30:02.600268",
     "exception": false,
     "start_time": "2022-12-22T11:30:01.36291",
     "status": "completed"
    },
    "tags": []
   },
   "outputs": [],
   "source": [
    "# only include titles that have more than 0 length\n",
    "titles = titles[titles[\"mod_title\"].str.len()>0]"
   ]
  },
  {
   "cell_type": "code",
   "execution_count": 87,
   "id": "6eeec24d",
   "metadata": {
    "execution": {
     "iopub.execute_input": "2022-12-22T11:30:02.643703Z",
     "iopub.status.busy": "2022-12-22T11:30:02.643326Z",
     "iopub.status.idle": "2022-12-22T11:30:05.853552Z",
     "shell.execute_reply": "2022-12-22T11:30:05.852337Z"
    },
    "papermill": {
     "duration": 3.235167,
     "end_time": "2022-12-22T11:30:05.856477",
     "exception": false,
     "start_time": "2022-12-22T11:30:02.62131",
     "status": "completed"
    },
    "tags": []
   },
   "outputs": [],
   "source": [
    "# # to json\n",
    "# titles.to_json(\"books_titles.json\")"
   ]
  },
  {
   "cell_type": "code",
   "execution_count": 88,
   "id": "1e11f77d",
   "metadata": {
    "execution": {
     "iopub.execute_input": "2022-12-22T11:30:05.8993Z",
     "iopub.status.busy": "2022-12-22T11:30:05.898336Z",
     "iopub.status.idle": "2022-12-22T11:30:05.914728Z",
     "shell.execute_reply": "2022-12-22T11:30:05.913522Z"
    },
    "papermill": {
     "duration": 0.040726,
     "end_time": "2022-12-22T11:30:05.917339",
     "exception": false,
     "start_time": "2022-12-22T11:30:05.876613",
     "status": "completed"
    },
    "tags": []
   },
   "outputs": [
    {
     "data": {
      "text/html": [
       "<div>\n",
       "<style scoped>\n",
       "    .dataframe tbody tr th:only-of-type {\n",
       "        vertical-align: middle;\n",
       "    }\n",
       "\n",
       "    .dataframe tbody tr th {\n",
       "        vertical-align: top;\n",
       "    }\n",
       "\n",
       "    .dataframe thead th {\n",
       "        text-align: right;\n",
       "    }\n",
       "</style>\n",
       "<table border=\"1\" class=\"dataframe\">\n",
       "  <thead>\n",
       "    <tr style=\"text-align: right;\">\n",
       "      <th></th>\n",
       "      <th>book_id</th>\n",
       "      <th>title</th>\n",
       "      <th>ratings</th>\n",
       "      <th>url</th>\n",
       "      <th>cover_image</th>\n",
       "      <th>mod_title</th>\n",
       "    </tr>\n",
       "  </thead>\n",
       "  <tbody>\n",
       "    <tr>\n",
       "      <th>0</th>\n",
       "      <td>7327624</td>\n",
       "      <td>The Unschooled Wizard (Sun Wolf and Starhawk, ...</td>\n",
       "      <td>140</td>\n",
       "      <td>https://www.goodreads.com/book/show/7327624-th...</td>\n",
       "      <td>https://images.gr-assets.com/books/1304100136m...</td>\n",
       "      <td>the unschooled wizard sun wolf and starhawk 12</td>\n",
       "    </tr>\n",
       "    <tr>\n",
       "      <th>1</th>\n",
       "      <td>6066819</td>\n",
       "      <td>Best Friends Forever</td>\n",
       "      <td>51184</td>\n",
       "      <td>https://www.goodreads.com/book/show/6066819-be...</td>\n",
       "      <td>https://s.gr-assets.com/assets/nophoto/book/11...</td>\n",
       "      <td>best friends forever</td>\n",
       "    </tr>\n",
       "    <tr>\n",
       "      <th>2</th>\n",
       "      <td>287141</td>\n",
       "      <td>The Aeneid for Boys and Girls</td>\n",
       "      <td>46</td>\n",
       "      <td>https://www.goodreads.com/book/show/287141.The...</td>\n",
       "      <td>https://s.gr-assets.com/assets/nophoto/book/11...</td>\n",
       "      <td>the aeneid for boys and girls</td>\n",
       "    </tr>\n",
       "    <tr>\n",
       "      <th>3</th>\n",
       "      <td>6066812</td>\n",
       "      <td>All's Fairy in Love and War (Avalon: Web of Ma...</td>\n",
       "      <td>98</td>\n",
       "      <td>https://www.goodreads.com/book/show/6066812-al...</td>\n",
       "      <td>https://images.gr-assets.com/books/1316637798m...</td>\n",
       "      <td>alls fairy in love and war avalon web of magic 8</td>\n",
       "    </tr>\n",
       "    <tr>\n",
       "      <th>4</th>\n",
       "      <td>287149</td>\n",
       "      <td>The Devil's Notebook</td>\n",
       "      <td>986</td>\n",
       "      <td>https://www.goodreads.com/book/show/287149.The...</td>\n",
       "      <td>https://images.gr-assets.com/books/1328768789m...</td>\n",
       "      <td>the devils notebook</td>\n",
       "    </tr>\n",
       "    <tr>\n",
       "      <th>5</th>\n",
       "      <td>6066814</td>\n",
       "      <td>Crowner Royal (Crowner John Mystery, #13)</td>\n",
       "      <td>186</td>\n",
       "      <td>https://www.goodreads.com/book/show/6066814-cr...</td>\n",
       "      <td>https://images.gr-assets.com/books/1328724803m...</td>\n",
       "      <td>crowner royal crowner john mystery 13</td>\n",
       "    </tr>\n",
       "    <tr>\n",
       "      <th>6</th>\n",
       "      <td>33394837</td>\n",
       "      <td>The House of Memory (Pluto's Snitch #2)</td>\n",
       "      <td>269</td>\n",
       "      <td>https://www.goodreads.com/book/show/33394837-t...</td>\n",
       "      <td>https://images.gr-assets.com/books/1493114742m...</td>\n",
       "      <td>the house of memory plutos snitch 2</td>\n",
       "    </tr>\n",
       "    <tr>\n",
       "      <th>7</th>\n",
       "      <td>89373</td>\n",
       "      <td>The Bonfire of the Vanities</td>\n",
       "      <td>77</td>\n",
       "      <td>https://www.goodreads.com/book/show/89373.The_...</td>\n",
       "      <td>https://s.gr-assets.com/assets/nophoto/book/11...</td>\n",
       "      <td>the bonfire of the vanities</td>\n",
       "    </tr>\n",
       "    <tr>\n",
       "      <th>8</th>\n",
       "      <td>89375</td>\n",
       "      <td>90 Minutes in Heaven: A True Story of Death an...</td>\n",
       "      <td>68157</td>\n",
       "      <td>https://www.goodreads.com/book/show/89375.90_M...</td>\n",
       "      <td>https://s.gr-assets.com/assets/nophoto/book/11...</td>\n",
       "      <td>90 minutes in heaven a true story of death and...</td>\n",
       "    </tr>\n",
       "    <tr>\n",
       "      <th>9</th>\n",
       "      <td>89376</td>\n",
       "      <td>Heaven</td>\n",
       "      <td>7345</td>\n",
       "      <td>https://www.goodreads.com/book/show/89376.Heaven</td>\n",
       "      <td>https://images.gr-assets.com/books/1406508230m...</td>\n",
       "      <td>heaven</td>\n",
       "    </tr>\n",
       "    <tr>\n",
       "      <th>10</th>\n",
       "      <td>89377</td>\n",
       "      <td>Penny from Heaven</td>\n",
       "      <td>6949</td>\n",
       "      <td>https://www.goodreads.com/book/show/89377.Penn...</td>\n",
       "      <td>https://images.gr-assets.com/books/1320470906m...</td>\n",
       "      <td>penny from heaven</td>\n",
       "    </tr>\n",
       "    <tr>\n",
       "      <th>11</th>\n",
       "      <td>89378</td>\n",
       "      <td>Dog Heaven</td>\n",
       "      <td>1331</td>\n",
       "      <td>https://www.goodreads.com/book/show/89378.Dog_...</td>\n",
       "      <td>https://images.gr-assets.com/books/1360057676m...</td>\n",
       "      <td>dog heaven</td>\n",
       "    </tr>\n",
       "    <tr>\n",
       "      <th>12</th>\n",
       "      <td>21401188</td>\n",
       "      <td>Glimmering Light</td>\n",
       "      <td>72</td>\n",
       "      <td>https://www.goodreads.com/book/show/21401188-g...</td>\n",
       "      <td>https://images.gr-assets.com/books/1395067717m...</td>\n",
       "      <td>glimmering light</td>\n",
       "    </tr>\n",
       "    <tr>\n",
       "      <th>13</th>\n",
       "      <td>7203847</td>\n",
       "      <td>The Tommyknockers</td>\n",
       "      <td>45</td>\n",
       "      <td>https://www.goodreads.com/book/show/7203847-th...</td>\n",
       "      <td>https://s.gr-assets.com/assets/nophoto/book/11...</td>\n",
       "      <td>the tommyknockers</td>\n",
       "    </tr>\n",
       "    <tr>\n",
       "      <th>14</th>\n",
       "      <td>6158967</td>\n",
       "      <td>Crude World: The Violent Twilight of Oil</td>\n",
       "      <td>338</td>\n",
       "      <td>https://www.goodreads.com/book/show/6158967-cr...</td>\n",
       "      <td>https://images.gr-assets.com/books/1320556043m...</td>\n",
       "      <td>crude world the violent twilight of oil</td>\n",
       "    </tr>\n",
       "    <tr>\n",
       "      <th>15</th>\n",
       "      <td>12135833</td>\n",
       "      <td>Holding On</td>\n",
       "      <td>71</td>\n",
       "      <td>https://www.goodreads.com/book/show/12135833-h...</td>\n",
       "      <td>https://s.gr-assets.com/assets/nophoto/book/11...</td>\n",
       "      <td>holding on</td>\n",
       "    </tr>\n",
       "    <tr>\n",
       "      <th>16</th>\n",
       "      <td>18628482</td>\n",
       "      <td>Understand God's Word - Walk in the Truth</td>\n",
       "      <td>21</td>\n",
       "      <td>https://www.goodreads.com/book/show/18628482-u...</td>\n",
       "      <td>https://images.gr-assets.com/books/1380976928m...</td>\n",
       "      <td>understand gods word walk in the truth</td>\n",
       "    </tr>\n",
       "    <tr>\n",
       "      <th>17</th>\n",
       "      <td>29074697</td>\n",
       "      <td>The Slaughtered Virgin of Zenopolis (Inspector...</td>\n",
       "      <td>192</td>\n",
       "      <td>https://www.goodreads.com/book/show/29074697-t...</td>\n",
       "      <td>https://s.gr-assets.com/assets/nophoto/book/11...</td>\n",
       "      <td>the slaughtered virgin of zenopolis inspector ...</td>\n",
       "    </tr>\n",
       "    <tr>\n",
       "      <th>18</th>\n",
       "      <td>18628480</td>\n",
       "      <td>Stoner</td>\n",
       "      <td>116</td>\n",
       "      <td>https://www.goodreads.com/book/show/18628480-s...</td>\n",
       "      <td>https://images.gr-assets.com/books/1380976410m...</td>\n",
       "      <td>stoner</td>\n",
       "    </tr>\n",
       "    <tr>\n",
       "      <th>19</th>\n",
       "      <td>29074693</td>\n",
       "      <td>Prowled Darkness (Dante's Circle, #7)</td>\n",
       "      <td>149</td>\n",
       "      <td>https://www.goodreads.com/book/show/29074693-p...</td>\n",
       "      <td>https://s.gr-assets.com/assets/nophoto/book/11...</td>\n",
       "      <td>prowled darkness dantes circle 7</td>\n",
       "    </tr>\n",
       "  </tbody>\n",
       "</table>\n",
       "</div>"
      ],
      "text/plain": [
       "     book_id                                              title  ratings  \\\n",
       "0    7327624  The Unschooled Wizard (Sun Wolf and Starhawk, ...      140   \n",
       "1    6066819                               Best Friends Forever    51184   \n",
       "2     287141                      The Aeneid for Boys and Girls       46   \n",
       "3    6066812  All's Fairy in Love and War (Avalon: Web of Ma...       98   \n",
       "4     287149                               The Devil's Notebook      986   \n",
       "5    6066814          Crowner Royal (Crowner John Mystery, #13)      186   \n",
       "6   33394837            The House of Memory (Pluto's Snitch #2)      269   \n",
       "7      89373                        The Bonfire of the Vanities       77   \n",
       "8      89375  90 Minutes in Heaven: A True Story of Death an...    68157   \n",
       "9      89376                                             Heaven     7345   \n",
       "10     89377                                  Penny from Heaven     6949   \n",
       "11     89378                                         Dog Heaven     1331   \n",
       "12  21401188                                   Glimmering Light       72   \n",
       "13   7203847                                  The Tommyknockers       45   \n",
       "14   6158967           Crude World: The Violent Twilight of Oil      338   \n",
       "15  12135833                                         Holding On       71   \n",
       "16  18628482          Understand God's Word - Walk in the Truth       21   \n",
       "17  29074697  The Slaughtered Virgin of Zenopolis (Inspector...      192   \n",
       "18  18628480                                             Stoner      116   \n",
       "19  29074693              Prowled Darkness (Dante's Circle, #7)      149   \n",
       "\n",
       "                                                  url  \\\n",
       "0   https://www.goodreads.com/book/show/7327624-th...   \n",
       "1   https://www.goodreads.com/book/show/6066819-be...   \n",
       "2   https://www.goodreads.com/book/show/287141.The...   \n",
       "3   https://www.goodreads.com/book/show/6066812-al...   \n",
       "4   https://www.goodreads.com/book/show/287149.The...   \n",
       "5   https://www.goodreads.com/book/show/6066814-cr...   \n",
       "6   https://www.goodreads.com/book/show/33394837-t...   \n",
       "7   https://www.goodreads.com/book/show/89373.The_...   \n",
       "8   https://www.goodreads.com/book/show/89375.90_M...   \n",
       "9    https://www.goodreads.com/book/show/89376.Heaven   \n",
       "10  https://www.goodreads.com/book/show/89377.Penn...   \n",
       "11  https://www.goodreads.com/book/show/89378.Dog_...   \n",
       "12  https://www.goodreads.com/book/show/21401188-g...   \n",
       "13  https://www.goodreads.com/book/show/7203847-th...   \n",
       "14  https://www.goodreads.com/book/show/6158967-cr...   \n",
       "15  https://www.goodreads.com/book/show/12135833-h...   \n",
       "16  https://www.goodreads.com/book/show/18628482-u...   \n",
       "17  https://www.goodreads.com/book/show/29074697-t...   \n",
       "18  https://www.goodreads.com/book/show/18628480-s...   \n",
       "19  https://www.goodreads.com/book/show/29074693-p...   \n",
       "\n",
       "                                          cover_image  \\\n",
       "0   https://images.gr-assets.com/books/1304100136m...   \n",
       "1   https://s.gr-assets.com/assets/nophoto/book/11...   \n",
       "2   https://s.gr-assets.com/assets/nophoto/book/11...   \n",
       "3   https://images.gr-assets.com/books/1316637798m...   \n",
       "4   https://images.gr-assets.com/books/1328768789m...   \n",
       "5   https://images.gr-assets.com/books/1328724803m...   \n",
       "6   https://images.gr-assets.com/books/1493114742m...   \n",
       "7   https://s.gr-assets.com/assets/nophoto/book/11...   \n",
       "8   https://s.gr-assets.com/assets/nophoto/book/11...   \n",
       "9   https://images.gr-assets.com/books/1406508230m...   \n",
       "10  https://images.gr-assets.com/books/1320470906m...   \n",
       "11  https://images.gr-assets.com/books/1360057676m...   \n",
       "12  https://images.gr-assets.com/books/1395067717m...   \n",
       "13  https://s.gr-assets.com/assets/nophoto/book/11...   \n",
       "14  https://images.gr-assets.com/books/1320556043m...   \n",
       "15  https://s.gr-assets.com/assets/nophoto/book/11...   \n",
       "16  https://images.gr-assets.com/books/1380976928m...   \n",
       "17  https://s.gr-assets.com/assets/nophoto/book/11...   \n",
       "18  https://images.gr-assets.com/books/1380976410m...   \n",
       "19  https://s.gr-assets.com/assets/nophoto/book/11...   \n",
       "\n",
       "                                            mod_title  \n",
       "0      the unschooled wizard sun wolf and starhawk 12  \n",
       "1                                best friends forever  \n",
       "2                       the aeneid for boys and girls  \n",
       "3    alls fairy in love and war avalon web of magic 8  \n",
       "4                                 the devils notebook  \n",
       "5               crowner royal crowner john mystery 13  \n",
       "6                 the house of memory plutos snitch 2  \n",
       "7                         the bonfire of the vanities  \n",
       "8   90 minutes in heaven a true story of death and...  \n",
       "9                                              heaven  \n",
       "10                                  penny from heaven  \n",
       "11                                         dog heaven  \n",
       "12                                   glimmering light  \n",
       "13                                  the tommyknockers  \n",
       "14            crude world the violent twilight of oil  \n",
       "15                                         holding on  \n",
       "16             understand gods word walk in the truth  \n",
       "17  the slaughtered virgin of zenopolis inspector ...  \n",
       "18                                             stoner  \n",
       "19                   prowled darkness dantes circle 7  "
      ]
     },
     "execution_count": 88,
     "metadata": {},
     "output_type": "execute_result"
    }
   ],
   "source": [
    "titles.head(20)\n"
   ]
  },
  {
   "cell_type": "code",
   "execution_count": 89,
   "id": "0fbebae2",
   "metadata": {
    "execution": {
     "iopub.execute_input": "2022-12-22T11:30:05.961899Z",
     "iopub.status.busy": "2022-12-22T11:30:05.960914Z",
     "iopub.status.idle": "2022-12-22T11:30:17.424581Z",
     "shell.execute_reply": "2022-12-22T11:30:17.423427Z"
    },
    "papermill": {
     "duration": 11.488792,
     "end_time": "2022-12-22T11:30:17.42721",
     "exception": false,
     "start_time": "2022-12-22T11:30:05.938418",
     "status": "completed"
    },
    "tags": []
   },
   "outputs": [],
   "source": [
    "# create an instance of tfidfvectorizer\n",
    "# takes a list of strings and turns it into a tfidf matrix. \n",
    "vectorizer = TfidfVectorizer()\n",
    "tfidf = vectorizer.fit_transform(titles[\"mod_title\"])"
   ]
  },
  {
   "cell_type": "code",
   "execution_count": 90,
   "id": "754e0973",
   "metadata": {
    "execution": {
     "iopub.execute_input": "2022-12-22T11:30:17.470261Z",
     "iopub.status.busy": "2022-12-22T11:30:17.469838Z",
     "iopub.status.idle": "2022-12-22T11:30:17.478087Z",
     "shell.execute_reply": "2022-12-22T11:30:17.47691Z"
    },
    "papermill": {
     "duration": 0.032491,
     "end_time": "2022-12-22T11:30:17.480464",
     "exception": false,
     "start_time": "2022-12-22T11:30:17.447973",
     "status": "completed"
    },
    "tags": []
   },
   "outputs": [],
   "source": [
    "# turn search query into a vector then match it up against the matrix\n",
    "#  then compare\n",
    "def make_clickable(val):\n",
    "    return '<a target=\"_blank\" href=\"{}\">Goodreads</a>'.format(val)\n",
    "def show_image(val):\n",
    "    return '<img src = \"{}\" width=50></img>'.format(val)\n",
    "def search(query, vectorizer):\n",
    "    # do the same processing that we did with mod_title\n",
    "    processed = re.sub(\"[^a-zA-Z0-9 ]\", \"\", query.lower())\n",
    "    # turn query into a vector\n",
    "    query_vec = vectorizer.transform([processed])\n",
    "    # find the similarity\n",
    "    similarity =cosine_similarity(query_vec,tfidf).flatten()\n",
    "    indices = np.argpartition(similarity, -10)[-10:]\n",
    "    results = titles.iloc[indices]\n",
    "    # the data has a lot of duplicate books so we need to get the row with the highest rating\n",
    "    results.sort_values(\"ratings\",ascending =False)\n",
    "    return results.head(5).style.format({'url':make_clickable, 'cover_image':show_image})"
   ]
  },
  {
   "cell_type": "code",
   "execution_count": 91,
   "id": "53978802",
   "metadata": {
    "execution": {
     "iopub.execute_input": "2022-12-22T11:30:17.523321Z",
     "iopub.status.busy": "2022-12-22T11:30:17.522891Z",
     "iopub.status.idle": "2022-12-22T11:30:17.527539Z",
     "shell.execute_reply": "2022-12-22T11:30:17.526519Z"
    },
    "papermill": {
     "duration": 0.028561,
     "end_time": "2022-12-22T11:30:17.52967",
     "exception": false,
     "start_time": "2022-12-22T11:30:17.501109",
     "status": "completed"
    },
    "tags": []
   },
   "outputs": [],
   "source": [
    "# similarity"
   ]
  },
  {
   "cell_type": "code",
   "execution_count": 92,
   "id": "50e5065e",
   "metadata": {
    "execution": {
     "iopub.execute_input": "2022-12-22T11:30:17.572482Z",
     "iopub.status.busy": "2022-12-22T11:30:17.572081Z",
     "iopub.status.idle": "2022-12-22T11:30:17.576531Z",
     "shell.execute_reply": "2022-12-22T11:30:17.57554Z"
    },
    "papermill": {
     "duration": 0.02834,
     "end_time": "2022-12-22T11:30:17.578582",
     "exception": false,
     "start_time": "2022-12-22T11:30:17.550242",
     "status": "completed"
    },
    "tags": []
   },
   "outputs": [],
   "source": [
    "# # get to the actual book\n",
    "# results"
   ]
  },
  {
   "cell_type": "code",
   "execution_count": 93,
   "id": "7db64297",
   "metadata": {
    "execution": {
     "iopub.execute_input": "2022-12-22T11:30:17.621892Z",
     "iopub.status.busy": "2022-12-22T11:30:17.621458Z",
     "iopub.status.idle": "2022-12-22T11:30:17.936508Z",
     "shell.execute_reply": "2022-12-22T11:30:17.935354Z"
    },
    "papermill": {
     "duration": 0.339444,
     "end_time": "2022-12-22T11:30:17.938929",
     "exception": false,
     "start_time": "2022-12-22T11:30:17.599485",
     "status": "completed"
    },
    "tags": []
   },
   "outputs": [
    {
     "data": {
      "text/html": [
       "<style type=\"text/css\">\n",
       "</style>\n",
       "<table id=\"T_a810d\">\n",
       "  <thead>\n",
       "    <tr>\n",
       "      <th class=\"blank level0\" >&nbsp;</th>\n",
       "      <th id=\"T_a810d_level0_col0\" class=\"col_heading level0 col0\" >book_id</th>\n",
       "      <th id=\"T_a810d_level0_col1\" class=\"col_heading level0 col1\" >title</th>\n",
       "      <th id=\"T_a810d_level0_col2\" class=\"col_heading level0 col2\" >ratings</th>\n",
       "      <th id=\"T_a810d_level0_col3\" class=\"col_heading level0 col3\" >url</th>\n",
       "      <th id=\"T_a810d_level0_col4\" class=\"col_heading level0 col4\" >cover_image</th>\n",
       "      <th id=\"T_a810d_level0_col5\" class=\"col_heading level0 col5\" >mod_title</th>\n",
       "    </tr>\n",
       "  </thead>\n",
       "  <tbody>\n",
       "    <tr>\n",
       "      <th id=\"T_a810d_level0_row0\" class=\"row_heading level0 row0\" >42131</th>\n",
       "      <td id=\"T_a810d_row0_col0\" class=\"data row0 col0\" >25853025</td>\n",
       "      <td id=\"T_a810d_row0_col1\" class=\"data row0 col1\" >Romeo and Juliet</td>\n",
       "      <td id=\"T_a810d_row0_col2\" class=\"data row0 col2\" >160</td>\n",
       "      <td id=\"T_a810d_row0_col3\" class=\"data row0 col3\" ><a target=\"_blank\" href=\"https://www.goodreads.com/book/show/25853025-romeo-and-juliet\">Goodreads</a></td>\n",
       "      <td id=\"T_a810d_row0_col4\" class=\"data row0 col4\" ><img src = \"https://images.gr-assets.com/books/1487263119m/25853025.jpg\" width=50></img></td>\n",
       "      <td id=\"T_a810d_row0_col5\" class=\"data row0 col5\" >romeo and juliet</td>\n",
       "    </tr>\n",
       "    <tr>\n",
       "      <th id=\"T_a810d_level0_row1\" class=\"row_heading level0 row1\" >332642</th>\n",
       "      <td id=\"T_a810d_row1_col0\" class=\"data row1 col0\" >44530</td>\n",
       "      <td id=\"T_a810d_row1_col1\" class=\"data row1 col1\" >Romeo and Juliet</td>\n",
       "      <td id=\"T_a810d_row1_col2\" class=\"data row1 col2\" >428</td>\n",
       "      <td id=\"T_a810d_row1_col3\" class=\"data row1 col3\" ><a target=\"_blank\" href=\"https://www.goodreads.com/book/show/44530.Romeo_and_Juliet\">Goodreads</a></td>\n",
       "      <td id=\"T_a810d_row1_col4\" class=\"data row1 col4\" ><img src = \"https://s.gr-assets.com/assets/nophoto/book/111x148-bcc042a9c91a29c1d680899eff700a03.png\" width=50></img></td>\n",
       "      <td id=\"T_a810d_row1_col5\" class=\"data row1 col5\" >romeo and juliet</td>\n",
       "    </tr>\n",
       "    <tr>\n",
       "      <th id=\"T_a810d_level0_row2\" class=\"row_heading level0 row2\" >235190</th>\n",
       "      <td id=\"T_a810d_row2_col0\" class=\"data row2 col0\" >18509114</td>\n",
       "      <td id=\"T_a810d_row2_col1\" class=\"data row2 col1\" >Romeo and Juliet</td>\n",
       "      <td id=\"T_a810d_row2_col2\" class=\"data row2 col2\" >32</td>\n",
       "      <td id=\"T_a810d_row2_col3\" class=\"data row2 col3\" ><a target=\"_blank\" href=\"https://www.goodreads.com/book/show/18509114-romeo-and-juliet\">Goodreads</a></td>\n",
       "      <td id=\"T_a810d_row2_col4\" class=\"data row2 col4\" ><img src = \"https://s.gr-assets.com/assets/nophoto/book/111x148-bcc042a9c91a29c1d680899eff700a03.png\" width=50></img></td>\n",
       "      <td id=\"T_a810d_row2_col5\" class=\"data row2 col5\" >romeo and juliet</td>\n",
       "    </tr>\n",
       "    <tr>\n",
       "      <th id=\"T_a810d_level0_row3\" class=\"row_heading level0 row3\" >1081808</th>\n",
       "      <td id=\"T_a810d_row3_col0\" class=\"data row3 col0\" >17382109</td>\n",
       "      <td id=\"T_a810d_row3_col1\" class=\"data row3 col1\" >Romeo and Juliet</td>\n",
       "      <td id=\"T_a810d_row3_col2\" class=\"data row3 col2\" >103</td>\n",
       "      <td id=\"T_a810d_row3_col3\" class=\"data row3 col3\" ><a target=\"_blank\" href=\"https://www.goodreads.com/book/show/17382109-romeo-and-juliet\">Goodreads</a></td>\n",
       "      <td id=\"T_a810d_row3_col4\" class=\"data row3 col4\" ><img src = \"https://images.gr-assets.com/books/1361149717m/17382109.jpg\" width=50></img></td>\n",
       "      <td id=\"T_a810d_row3_col5\" class=\"data row3 col5\" >romeo and juliet</td>\n",
       "    </tr>\n",
       "    <tr>\n",
       "      <th id=\"T_a810d_level0_row4\" class=\"row_heading level0 row4\" >532717</th>\n",
       "      <td id=\"T_a810d_row4_col0\" class=\"data row4 col0\" >879258</td>\n",
       "      <td id=\"T_a810d_row4_col1\" class=\"data row4 col1\" >Romeo and Juliet</td>\n",
       "      <td id=\"T_a810d_row4_col2\" class=\"data row4 col2\" >60</td>\n",
       "      <td id=\"T_a810d_row4_col3\" class=\"data row4 col3\" ><a target=\"_blank\" href=\"https://www.goodreads.com/book/show/879258.Romeo_and_Juliet\">Goodreads</a></td>\n",
       "      <td id=\"T_a810d_row4_col4\" class=\"data row4 col4\" ><img src = \"https://s.gr-assets.com/assets/nophoto/book/111x148-bcc042a9c91a29c1d680899eff700a03.png\" width=50></img></td>\n",
       "      <td id=\"T_a810d_row4_col5\" class=\"data row4 col5\" >romeo and juliet</td>\n",
       "    </tr>\n",
       "  </tbody>\n",
       "</table>\n"
      ],
      "text/plain": [
       "<pandas.io.formats.style.Styler at 0x299434b1f10>"
      ]
     },
     "execution_count": 93,
     "metadata": {},
     "output_type": "execute_result"
    }
   ],
   "source": [
    "# search for another book\n",
    "search(\"Romeo and Juliet\",vectorizer)"
   ]
  },
  {
   "cell_type": "markdown",
   "id": "5bfc3987",
   "metadata": {
    "papermill": {
     "duration": 0.020708,
     "end_time": "2022-12-22T11:30:17.980556",
     "exception": false,
     "start_time": "2022-12-22T11:30:17.959848",
     "status": "completed"
    },
    "tags": []
   },
   "source": [
    "# **CREATE A LIST OF LIKED BOOKS**"
   ]
  },
  {
   "cell_type": "code",
   "execution_count": 94,
   "id": "540774c8",
   "metadata": {
    "execution": {
     "iopub.execute_input": "2022-12-22T11:30:18.023735Z",
     "iopub.status.busy": "2022-12-22T11:30:18.023321Z",
     "iopub.status.idle": "2022-12-22T11:30:18.028396Z",
     "shell.execute_reply": "2022-12-22T11:30:18.027378Z"
    },
    "papermill": {
     "duration": 0.029162,
     "end_time": "2022-12-22T11:30:18.030496",
     "exception": false,
     "start_time": "2022-12-22T11:30:18.001334",
     "status": "completed"
    },
    "tags": []
   },
   "outputs": [],
   "source": [
    "# create a list of liked books and store the ids as a string\n",
    "liked_books = [\"8132407\",\"30849411\",\"32737635\",\"5996629\"]"
   ]
  },
  {
   "cell_type": "markdown",
   "id": "a1f26ea2",
   "metadata": {
    "papermill": {
     "duration": 0.020608,
     "end_time": "2022-12-22T11:30:18.071951",
     "exception": false,
     "start_time": "2022-12-22T11:30:18.051343",
     "status": "completed"
    },
    "tags": []
   },
   "source": [
    "# **BOOK RECOMMENDATION DATA**"
   ]
  },
  {
   "cell_type": "code",
   "execution_count": 95,
   "id": "ea21c653",
   "metadata": {
    "execution": {
     "iopub.execute_input": "2022-12-22T11:30:18.157088Z",
     "iopub.status.busy": "2022-12-22T11:30:18.156653Z",
     "iopub.status.idle": "2022-12-22T11:30:19.30258Z",
     "shell.execute_reply": "2022-12-22T11:30:19.301062Z"
    },
    "papermill": {
     "duration": 1.171322,
     "end_time": "2022-12-22T11:30:19.305504",
     "exception": false,
     "start_time": "2022-12-22T11:30:18.134182",
     "status": "completed"
    },
    "tags": []
   },
   "outputs": [],
   "source": [
    "# url2 = \"https://drive.google.com/file/d/1zmylV7XW2dfQVCLeg1LbllfQtHD2KUon/view\"\n",
    "# output2 = 'goodreads_interactions.csv '\n",
    "# # goodreads_interactions=gdown.download(url2, output2, quiet=False)"
   ]
  },
  {
   "cell_type": "code",
   "execution_count": 96,
   "id": "634d0c09",
   "metadata": {
    "execution": {
     "iopub.execute_input": "2022-12-22T11:30:19.350745Z",
     "iopub.status.busy": "2022-12-22T11:30:19.350012Z",
     "iopub.status.idle": "2022-12-22T11:30:22.041212Z",
     "shell.execute_reply": "2022-12-22T11:30:22.039964Z"
    },
    "papermill": {
     "duration": 2.717734,
     "end_time": "2022-12-22T11:30:22.044444",
     "exception": false,
     "start_time": "2022-12-22T11:30:19.32671",
     "status": "completed"
    },
    "tags": []
   },
   "outputs": [],
   "source": [
    "# read file in a streaming fashion\n",
    "# read the file in a line, splitting it on the comma \n",
    "# assign the first part to csv_id before the comma and the second part after the comma to book_id\n",
    "csv_book_mapping = {}\n",
    "with open(\"book_id_map.csv\", \"r\") as f:\n",
    "    while True:\n",
    "        line = f.readline()\n",
    "        if not line:\n",
    "            break\n",
    "        csv_id, book_id = line.strip().split(\",\")\n",
    "#         in the dictionary, all the keys will be the csv_ids(in the interaction file) and the values are ids in the file we just worked with(metadata)\n",
    "        csv_book_mapping[csv_id] =book_id      "
   ]
  },
  {
   "cell_type": "code",
   "execution_count": 97,
   "id": "b2dcba74",
   "metadata": {
    "execution": {
     "iopub.execute_input": "2022-12-22T11:30:22.08945Z",
     "iopub.status.busy": "2022-12-22T11:30:22.089072Z",
     "iopub.status.idle": "2022-12-22T11:30:22.095614Z",
     "shell.execute_reply": "2022-12-22T11:30:22.094539Z"
    },
    "papermill": {
     "duration": 0.031897,
     "end_time": "2022-12-22T11:30:22.098053",
     "exception": false,
     "start_time": "2022-12-22T11:30:22.066156",
     "status": "completed"
    },
    "tags": []
   },
   "outputs": [
    {
     "data": {
      "text/plain": [
       "2360651"
      ]
     },
     "execution_count": 97,
     "metadata": {},
     "output_type": "execute_result"
    }
   ],
   "source": [
    "len(csv_book_mapping)"
   ]
  },
  {
   "cell_type": "code",
   "execution_count": 103,
   "id": "0e0a7ae3",
   "metadata": {
    "execution": {
     "iopub.execute_input": "2022-12-22T11:30:22.141843Z",
     "iopub.status.busy": "2022-12-22T11:30:22.141466Z",
     "iopub.status.idle": "2022-12-22T11:31:31.907694Z",
     "shell.execute_reply": "2022-12-22T11:31:31.903823Z"
    },
    "papermill": {
     "duration": 69.794683,
     "end_time": "2022-12-22T11:31:31.91378",
     "exception": false,
     "start_time": "2022-12-22T11:30:22.119097",
     "status": "completed"
    },
    "tags": []
   },
   "outputs": [],
   "source": [
    "interactions = 'goodreads_interactions.csv'"
   ]
  },
  {
   "cell_type": "markdown",
   "id": "2e1e060c",
   "metadata": {
    "papermill": {
     "duration": 0.021514,
     "end_time": "2022-12-22T11:31:36.298182",
     "exception": false,
     "start_time": "2022-12-22T11:31:36.276668",
     "status": "completed"
    },
    "tags": []
   },
   "source": [
    "# **FIND USERS WITH THE SAME BOOKS AS US**"
   ]
  },
  {
   "cell_type": "code",
   "execution_count": 99,
   "id": "4a591bd9",
   "metadata": {
    "execution": {
     "iopub.execute_input": "2022-12-22T11:31:36.342544Z",
     "iopub.status.busy": "2022-12-22T11:31:36.342116Z",
     "iopub.status.idle": "2022-12-22T11:31:37.46959Z",
     "shell.execute_reply": "2022-12-22T11:31:37.468099Z"
    },
    "papermill": {
     "duration": 1.153224,
     "end_time": "2022-12-22T11:31:37.472363",
     "exception": false,
     "start_time": "2022-12-22T11:31:36.319139",
     "status": "completed"
    },
    "tags": []
   },
   "outputs": [],
   "source": [
    "# ! head \"C:\\Users\\user\\I am learning ML\\BOOK-RECOMMENDATION-SYSTEM\\goodreads_interactions.csv\""
   ]
  },
  {
   "cell_type": "code",
   "execution_count": 119,
   "id": "d7df43b6",
   "metadata": {
    "execution": {
     "iopub.execute_input": "2022-12-22T11:31:37.518644Z",
     "iopub.status.busy": "2022-12-22T11:31:37.518196Z",
     "iopub.status.idle": "2022-12-22T11:37:45.95234Z",
     "shell.execute_reply": "2022-12-22T11:37:45.950672Z"
    },
    "papermill": {
     "duration": 368.462031,
     "end_time": "2022-12-22T11:37:45.956069",
     "exception": false,
     "start_time": "2022-12-22T11:31:37.494038",
     "status": "completed"
    },
    "tags": []
   },
   "outputs": [
    {
     "ename": "ValueError",
     "evalue": "too many values to unpack (expected 5)",
     "output_type": "error",
     "traceback": [
      "\u001b[1;31m---------------------------------------------------------------------------\u001b[0m",
      "\u001b[1;31mValueError\u001b[0m                                Traceback (most recent call last)",
      "Input \u001b[1;32mIn [119]\u001b[0m, in \u001b[0;36m<cell line: 2>\u001b[1;34m()\u001b[0m\n\u001b[0;32m      5\u001b[0m \u001b[38;5;28;01mif\u001b[39;00m \u001b[38;5;129;01mnot\u001b[39;00m lines:\n\u001b[0;32m      6\u001b[0m     \u001b[38;5;28;01mbreak\u001b[39;00m\n\u001b[1;32m----> 7\u001b[0m user_id, csv_id,_,rating, _ , \u001b[38;5;241m=\u001b[39m lines\u001b[38;5;241m.\u001b[39msplit(\u001b[38;5;124m'\u001b[39m\u001b[38;5;124m,\u001b[39m\u001b[38;5;124m'\u001b[39m)\n\u001b[0;32m      8\u001b[0m \u001b[38;5;28;01mif\u001b[39;00m user_id \u001b[38;5;129;01min\u001b[39;00m overlap_users:\n\u001b[0;32m      9\u001b[0m     \u001b[38;5;28;01mcontinue\u001b[39;00m\n",
      "\u001b[1;31mValueError\u001b[0m: too many values to unpack (expected 5)"
     ]
    }
   ],
   "source": [
    "overlap_users = set()\n",
    "with open(\"goodreads_interactions.csv\",'r') as f:\n",
    "    while True:\n",
    "        lines = f.readline()\n",
    "        if not lines:\n",
    "            break\n",
    "        user_id, csv_id,_,rating, _ , = lines.split(',')\n",
    "        if user_id in overlap_users:\n",
    "            continue\n",
    "        try:\n",
    "            rating = int(rating)\n",
    "        except ValueError:\n",
    "            continue\n",
    "        # turn the csv_id into book_id\n",
    "        book_id = csv_book_mapping[csv_id]\n",
    "        if book_id in liked_books and rating >= 4:\n",
    "            overlap_users.add(user_id)"
   ]
  },
  {
   "cell_type": "code",
   "execution_count": null,
   "id": "62098e57",
   "metadata": {
    "execution": {
     "iopub.execute_input": "2022-12-22T11:37:46.002576Z",
     "iopub.status.busy": "2022-12-22T11:37:46.002007Z",
     "iopub.status.idle": "2022-12-22T11:40:29.731638Z",
     "shell.execute_reply": "2022-12-22T11:40:29.730162Z"
    },
    "papermill": {
     "duration": 163.755977,
     "end_time": "2022-12-22T11:40:29.734835",
     "exception": false,
     "start_time": "2022-12-22T11:37:45.978858",
     "status": "completed"
    },
    "tags": []
   },
   "outputs": [],
   "source": [
    "# find all the books the users read\n",
    "# loop through the good reads interaction dataset\n",
    "rec_lines = []\n",
    "# reclines will only contain books that users who liked the same books as us have read\n",
    "with open(\"/kaggle/working/goodreads_interactions.csv\",'r') as f:\n",
    "    while True:\n",
    "        line = f.readline()\n",
    "        if not line:\n",
    "            break\n",
    "        # split the data again\n",
    "        user_id, csv_id,_,rating, _, =line.split(\",\")\n",
    "        if user_id in overlap_users:\n",
    "            book_id = csv_book_mapping[csv_id]\n",
    "            rec_lines.append([user_id, book_id, rating])\n"
   ]
  },
  {
   "cell_type": "code",
   "execution_count": null,
   "id": "02914bad",
   "metadata": {
    "execution": {
     "iopub.execute_input": "2022-12-22T11:40:29.780561Z",
     "iopub.status.busy": "2022-12-22T11:40:29.779912Z",
     "iopub.status.idle": "2022-12-22T11:40:29.785866Z",
     "shell.execute_reply": "2022-12-22T11:40:29.785078Z"
    },
    "papermill": {
     "duration": 0.030818,
     "end_time": "2022-12-22T11:40:29.787837",
     "exception": false,
     "start_time": "2022-12-22T11:40:29.757019",
     "status": "completed"
    },
    "tags": []
   },
   "outputs": [],
   "source": [
    "len(overlap_users)"
   ]
  },
  {
   "cell_type": "code",
   "execution_count": null,
   "id": "7764d30b",
   "metadata": {
    "execution": {
     "iopub.execute_input": "2022-12-22T11:40:29.832537Z",
     "iopub.status.busy": "2022-12-22T11:40:29.831494Z",
     "iopub.status.idle": "2022-12-22T11:40:29.838041Z",
     "shell.execute_reply": "2022-12-22T11:40:29.837235Z"
    },
    "papermill": {
     "duration": 0.031037,
     "end_time": "2022-12-22T11:40:29.840067",
     "exception": false,
     "start_time": "2022-12-22T11:40:29.80903",
     "status": "completed"
    },
    "tags": []
   },
   "outputs": [],
   "source": [
    "len(rec_lines)"
   ]
  },
  {
   "cell_type": "code",
   "execution_count": null,
   "id": "0acb3f07",
   "metadata": {
    "execution": {
     "iopub.execute_input": "2022-12-22T11:40:29.884891Z",
     "iopub.status.busy": "2022-12-22T11:40:29.884281Z",
     "iopub.status.idle": "2022-12-22T11:40:30.208733Z",
     "shell.execute_reply": "2022-12-22T11:40:30.207448Z"
    },
    "papermill": {
     "duration": 0.350031,
     "end_time": "2022-12-22T11:40:30.211461",
     "exception": false,
     "start_time": "2022-12-22T11:40:29.86143",
     "status": "completed"
    },
    "tags": []
   },
   "outputs": [],
   "source": [
    "# rank recommmendations in rec_lines\n",
    "recs=pd.DataFrame(rec_lines, columns = [\"user_id\",\"book_id\",\"rating\"] )\n",
    "recs[\"book_id\"]=recs[\"book_id\"].astype(str)"
   ]
  },
  {
   "cell_type": "code",
   "execution_count": null,
   "id": "2349f4ae",
   "metadata": {
    "execution": {
     "iopub.execute_input": "2022-12-22T11:40:30.256591Z",
     "iopub.status.busy": "2022-12-22T11:40:30.255849Z",
     "iopub.status.idle": "2022-12-22T11:40:30.588129Z",
     "shell.execute_reply": "2022-12-22T11:40:30.585909Z"
    },
    "papermill": {
     "duration": 0.359631,
     "end_time": "2022-12-22T11:40:30.592578",
     "exception": false,
     "start_time": "2022-12-22T11:40:30.232947",
     "status": "completed"
    },
    "tags": []
   },
   "outputs": [],
   "source": [
    "top_recs = recs[\"book_id\"].value_counts().head(10)\n",
    "# get the values of the index\n",
    "top_recs=top_recs.index.values"
   ]
  },
  {
   "cell_type": "code",
   "execution_count": null,
   "id": "979f91fd",
   "metadata": {
    "execution": {
     "iopub.execute_input": "2022-12-22T11:40:30.654409Z",
     "iopub.status.busy": "2022-12-22T11:40:30.653155Z",
     "iopub.status.idle": "2022-12-22T11:40:49.009403Z",
     "shell.execute_reply": "2022-12-22T11:40:49.0082Z"
    },
    "papermill": {
     "duration": 18.390652,
     "end_time": "2022-12-22T11:40:49.012125",
     "exception": false,
     "start_time": "2022-12-22T11:40:30.621473",
     "status": "completed"
    },
    "tags": []
   },
   "outputs": [],
   "source": [
    "# get from book_id to book title\n",
    "books_titles = pd.read_json(\"/kaggle/working/books_titles.json\")\n",
    "books_titles[\"book_id\"]=books_titles[\"book_id\"].astype(str)"
   ]
  },
  {
   "cell_type": "code",
   "execution_count": null,
   "id": "3380df3a",
   "metadata": {
    "execution": {
     "iopub.execute_input": "2022-12-22T11:40:49.059869Z",
     "iopub.status.busy": "2022-12-22T11:40:49.059434Z",
     "iopub.status.idle": "2022-12-22T11:40:49.07388Z",
     "shell.execute_reply": "2022-12-22T11:40:49.073078Z"
    },
    "papermill": {
     "duration": 0.040246,
     "end_time": "2022-12-22T11:40:49.076134",
     "exception": false,
     "start_time": "2022-12-22T11:40:49.035888",
     "status": "completed"
    },
    "tags": []
   },
   "outputs": [],
   "source": [
    "books_titles.head()"
   ]
  },
  {
   "cell_type": "code",
   "execution_count": null,
   "id": "e13eb808",
   "metadata": {
    "execution": {
     "iopub.execute_input": "2022-12-22T11:40:49.123099Z",
     "iopub.status.busy": "2022-12-22T11:40:49.122406Z",
     "iopub.status.idle": "2022-12-22T11:40:49.591208Z",
     "shell.execute_reply": "2022-12-22T11:40:49.590017Z"
    },
    "papermill": {
     "duration": 0.495219,
     "end_time": "2022-12-22T11:40:49.593694",
     "exception": false,
     "start_time": "2022-12-22T11:40:49.098475",
     "status": "completed"
    },
    "tags": []
   },
   "outputs": [],
   "source": [
    "# find the book titles where the book id is in these recommendations\n",
    "books_titles[books_titles[\"book_id\"].isin(top_recs)]"
   ]
  },
  {
   "cell_type": "code",
   "execution_count": null,
   "id": "6a042792",
   "metadata": {
    "execution": {
     "iopub.execute_input": "2022-12-22T11:40:49.639881Z",
     "iopub.status.busy": "2022-12-22T11:40:49.639479Z",
     "iopub.status.idle": "2022-12-22T11:40:49.645051Z",
     "shell.execute_reply": "2022-12-22T11:40:49.644315Z"
    },
    "papermill": {
     "duration": 0.030851,
     "end_time": "2022-12-22T11:40:49.647013",
     "exception": false,
     "start_time": "2022-12-22T11:40:49.616162",
     "status": "completed"
    },
    "tags": []
   },
   "outputs": [],
   "source": [
    "top_recs"
   ]
  },
  {
   "cell_type": "code",
   "execution_count": null,
   "id": "35c731ee",
   "metadata": {
    "execution": {
     "iopub.execute_input": "2022-12-22T11:40:49.695131Z",
     "iopub.status.busy": "2022-12-22T11:40:49.694682Z",
     "iopub.status.idle": "2022-12-22T11:40:50.014154Z",
     "shell.execute_reply": "2022-12-22T11:40:50.012516Z"
    },
    "papermill": {
     "duration": 0.347493,
     "end_time": "2022-12-22T11:40:50.016811",
     "exception": false,
     "start_time": "2022-12-22T11:40:49.669318",
     "status": "completed"
    },
    "tags": []
   },
   "outputs": [],
   "source": [
    "# value counts on all of the recommendations\n",
    "all_recs = recs[\"book_id\"].value_counts()"
   ]
  },
  {
   "cell_type": "code",
   "execution_count": null,
   "id": "498f0d5f",
   "metadata": {
    "execution": {
     "iopub.execute_input": "2022-12-22T11:40:50.063453Z",
     "iopub.status.busy": "2022-12-22T11:40:50.063021Z",
     "iopub.status.idle": "2022-12-22T11:40:50.080565Z",
     "shell.execute_reply": "2022-12-22T11:40:50.079319Z"
    },
    "papermill": {
     "duration": 0.044331,
     "end_time": "2022-12-22T11:40:50.083779",
     "exception": false,
     "start_time": "2022-12-22T11:40:50.039448",
     "status": "completed"
    },
    "tags": []
   },
   "outputs": [],
   "source": [
    "all_recs = all_recs.to_frame().reset_index()"
   ]
  },
  {
   "cell_type": "code",
   "execution_count": null,
   "id": "d00bdc0c",
   "metadata": {
    "execution": {
     "iopub.execute_input": "2022-12-22T11:40:50.131398Z",
     "iopub.status.busy": "2022-12-22T11:40:50.13095Z",
     "iopub.status.idle": "2022-12-22T11:40:50.142511Z",
     "shell.execute_reply": "2022-12-22T11:40:50.141356Z"
    },
    "papermill": {
     "duration": 0.037973,
     "end_time": "2022-12-22T11:40:50.144673",
     "exception": false,
     "start_time": "2022-12-22T11:40:50.1067",
     "status": "completed"
    },
    "tags": []
   },
   "outputs": [],
   "source": [
    "all_recs.head(20)"
   ]
  },
  {
   "cell_type": "code",
   "execution_count": null,
   "id": "41494988",
   "metadata": {
    "execution": {
     "iopub.execute_input": "2022-12-22T11:40:50.191742Z",
     "iopub.status.busy": "2022-12-22T11:40:50.191304Z",
     "iopub.status.idle": "2022-12-22T11:40:50.197806Z",
     "shell.execute_reply": "2022-12-22T11:40:50.196276Z"
    },
    "papermill": {
     "duration": 0.033083,
     "end_time": "2022-12-22T11:40:50.200323",
     "exception": false,
     "start_time": "2022-12-22T11:40:50.16724",
     "status": "completed"
    },
    "tags": []
   },
   "outputs": [],
   "source": [
    "all_recs.columns = [\"book_id\",\"book_count\"]"
   ]
  },
  {
   "cell_type": "code",
   "execution_count": null,
   "id": "fa3e6764",
   "metadata": {
    "execution": {
     "iopub.execute_input": "2022-12-22T11:40:50.24745Z",
     "iopub.status.busy": "2022-12-22T11:40:50.247051Z",
     "iopub.status.idle": "2022-12-22T11:40:50.258223Z",
     "shell.execute_reply": "2022-12-22T11:40:50.256964Z"
    },
    "papermill": {
     "duration": 0.037878,
     "end_time": "2022-12-22T11:40:50.260583",
     "exception": false,
     "start_time": "2022-12-22T11:40:50.222705",
     "status": "completed"
    },
    "tags": []
   },
   "outputs": [],
   "source": [
    "all_recs.head(15)"
   ]
  },
  {
   "cell_type": "code",
   "execution_count": null,
   "id": "e97832bf",
   "metadata": {
    "execution": {
     "iopub.execute_input": "2022-12-22T11:40:50.30772Z",
     "iopub.status.busy": "2022-12-22T11:40:50.307318Z",
     "iopub.status.idle": "2022-12-22T11:40:51.808621Z",
     "shell.execute_reply": "2022-12-22T11:40:51.807411Z"
    },
    "papermill": {
     "duration": 1.527915,
     "end_time": "2022-12-22T11:40:51.811204",
     "exception": false,
     "start_time": "2022-12-22T11:40:50.283289",
     "status": "completed"
    },
    "tags": []
   },
   "outputs": [],
   "source": [
    "# merge with book titles \n",
    "all_recs = all_recs.merge(books_titles,how=\"inner\",on=\"book_id\")"
   ]
  },
  {
   "cell_type": "code",
   "execution_count": null,
   "id": "8a44045f",
   "metadata": {
    "execution": {
     "iopub.execute_input": "2022-12-22T11:40:51.85821Z",
     "iopub.status.busy": "2022-12-22T11:40:51.857761Z",
     "iopub.status.idle": "2022-12-22T11:40:51.874423Z",
     "shell.execute_reply": "2022-12-22T11:40:51.873245Z"
    },
    "papermill": {
     "duration": 0.043021,
     "end_time": "2022-12-22T11:40:51.876911",
     "exception": false,
     "start_time": "2022-12-22T11:40:51.83389",
     "status": "completed"
    },
    "tags": []
   },
   "outputs": [],
   "source": [
    "all_recs.head(15)"
   ]
  },
  {
   "cell_type": "code",
   "execution_count": null,
   "id": "a4490aa5",
   "metadata": {
    "execution": {
     "iopub.execute_input": "2022-12-22T11:40:51.925133Z",
     "iopub.status.busy": "2022-12-22T11:40:51.924697Z",
     "iopub.status.idle": "2022-12-22T11:40:51.93306Z",
     "shell.execute_reply": "2022-12-22T11:40:51.931955Z"
    },
    "papermill": {
     "duration": 0.035276,
     "end_time": "2022-12-22T11:40:51.935459",
     "exception": false,
     "start_time": "2022-12-22T11:40:51.900183",
     "status": "completed"
    },
    "tags": []
   },
   "outputs": [],
   "source": [
    "# create a score to sort the recommendations\n",
    "all_recs[\"score\"]=all_recs[\"book_count\"] * (all_recs[\"book_count\"]/all_recs[\"ratings\"]) "
   ]
  },
  {
   "cell_type": "code",
   "execution_count": null,
   "id": "c2141c78",
   "metadata": {
    "execution": {
     "iopub.execute_input": "2022-12-22T11:40:51.98418Z",
     "iopub.status.busy": "2022-12-22T11:40:51.983801Z",
     "iopub.status.idle": "2022-12-22T11:40:52.093543Z",
     "shell.execute_reply": "2022-12-22T11:40:52.092212Z"
    },
    "papermill": {
     "duration": 0.13683,
     "end_time": "2022-12-22T11:40:52.095852",
     "exception": false,
     "start_time": "2022-12-22T11:40:51.959022",
     "status": "completed"
    },
    "tags": []
   },
   "outputs": [],
   "source": [
    "all_recs.sort_values(\"score\",ascending=False).head(10)"
   ]
  },
  {
   "cell_type": "code",
   "execution_count": null,
   "id": "2bf32f1a",
   "metadata": {
    "execution": {
     "iopub.execute_input": "2022-12-22T11:40:52.145182Z",
     "iopub.status.busy": "2022-12-22T11:40:52.144087Z",
     "iopub.status.idle": "2022-12-22T11:40:52.25194Z",
     "shell.execute_reply": "2022-12-22T11:40:52.250617Z"
    },
    "papermill": {
     "duration": 0.135204,
     "end_time": "2022-12-22T11:40:52.254735",
     "exception": false,
     "start_time": "2022-12-22T11:40:52.119531",
     "status": "completed"
    },
    "tags": []
   },
   "outputs": [],
   "source": [
    "# remove some of the books with few ratings\n",
    "popular_recs = all_recs[all_recs[\"book_count\"]>75].sort_values(\"score\",ascending=False)"
   ]
  },
  {
   "cell_type": "code",
   "execution_count": null,
   "id": "056164a3",
   "metadata": {
    "execution": {
     "iopub.execute_input": "2022-12-22T11:40:52.303921Z",
     "iopub.status.busy": "2022-12-22T11:40:52.303536Z",
     "iopub.status.idle": "2022-12-22T11:40:52.32086Z",
     "shell.execute_reply": "2022-12-22T11:40:52.319688Z"
    },
    "papermill": {
     "duration": 0.044681,
     "end_time": "2022-12-22T11:40:52.323216",
     "exception": false,
     "start_time": "2022-12-22T11:40:52.278535",
     "status": "completed"
    },
    "tags": []
   },
   "outputs": [],
   "source": [
    "def make_clickable(val):\n",
    "    return '<a target=\"_blank\" href=\"{}\">Goodreads</a>'.format(val)\n",
    "def show_image(val):\n",
    "    return '<img src = \"{}\" width=50></img>'.format(val)\n",
    "popular_recs[~popular_recs[\"book_id\"].isin(liked_books)].head(15).style.format({'url':make_clickable, 'cover_image':show_image})"
   ]
  }
 ],
 "metadata": {
  "kernelspec": {
   "display_name": "Python 3 (ipykernel)",
   "language": "python",
   "name": "python3"
  },
  "language_info": {
   "codemirror_mode": {
    "name": "ipython",
    "version": 3
   },
   "file_extension": ".py",
   "mimetype": "text/x-python",
   "name": "python",
   "nbconvert_exporter": "python",
   "pygments_lexer": "ipython3",
   "version": "3.9.12"
  },
  "papermill": {
   "default_parameters": {},
   "duration": 960.167271,
   "end_time": "2022-12-22T11:40:54.972261",
   "environment_variables": {},
   "exception": null,
   "input_path": "__notebook__.ipynb",
   "output_path": "__notebook__.ipynb",
   "parameters": {},
   "start_time": "2022-12-22T11:24:54.80499",
   "version": "2.3.4"
  }
 },
 "nbformat": 4,
 "nbformat_minor": 5
}
