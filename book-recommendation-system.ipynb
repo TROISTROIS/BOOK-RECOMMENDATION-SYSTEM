{
 "cells": [
  {
   "cell_type": "code",
   "execution_count": 1,
   "id": "24e6e821",
   "metadata": {
    "_cell_guid": "b1076dfc-b9ad-4769-8c92-a6c4dae69d19",
    "_uuid": "8f2839f25d086af736a60e9eeb907d3b93b6e0e5",
    "execution": {
     "iopub.execute_input": "2022-12-16T05:36:34.746220Z",
     "iopub.status.busy": "2022-12-16T05:36:34.745794Z",
     "iopub.status.idle": "2022-12-16T05:36:34.754442Z",
     "shell.execute_reply": "2022-12-16T05:36:34.753639Z"
    },
    "papermill": {
     "duration": 0.016029,
     "end_time": "2022-12-16T05:36:34.757243",
     "exception": false,
     "start_time": "2022-12-16T05:36:34.741214",
     "status": "completed"
    },
    "tags": []
   },
   "outputs": [],
   "source": [
    "# This Python 3 environment comes with many helpful analytics libraries installed\n",
    "# It is defined by the kaggle/python Docker image: https://github.com/kaggle/docker-python\n",
    "# For example, here's several helpful packages to load\n",
    "\n",
    "import numpy as np # linear algebra\n",
    "import pandas as pd # data processing, CSV file I/O (e.g. pd.read_csv)\n",
    "\n",
    "# You can write up to 20GB to the current directory (/kaggle/working/) that gets preserved as output when you create a version using \"Save & Run All\" \n",
    "# You can also write temporary files to /kaggle/temp/, but they won't be saved outside of the current session"
   ]
  },
  {
   "cell_type": "code",
   "execution_count": 2,
   "id": "dd74ab0e",
   "metadata": {
    "execution": {
     "iopub.execute_input": "2022-12-16T05:36:34.763865Z",
     "iopub.status.busy": "2022-12-16T05:36:34.763119Z",
     "iopub.status.idle": "2022-12-16T05:37:11.124816Z",
     "shell.execute_reply": "2022-12-16T05:37:11.124118Z"
    },
    "papermill": {
     "duration": 36.367024,
     "end_time": "2022-12-16T05:37:11.126906",
     "exception": false,
     "start_time": "2022-12-16T05:36:34.759882",
     "status": "completed"
    },
    "tags": []
   },
   "outputs": [
    {
     "name": "stdout",
     "output_type": "stream",
     "text": [
      "Collecting gdown\r\n",
      "  Downloading gdown-4.6.0-py3-none-any.whl (14 kB)\r\n",
      "Requirement already satisfied: six in /opt/conda/lib/python3.7/site-packages (from gdown) (1.15.0)\r\n",
      "Requirement already satisfied: requests[socks] in /opt/conda/lib/python3.7/site-packages (from gdown) (2.28.1)\r\n",
      "Requirement already satisfied: beautifulsoup4 in /opt/conda/lib/python3.7/site-packages (from gdown) (4.11.1)\r\n",
      "Requirement already satisfied: filelock in /opt/conda/lib/python3.7/site-packages (from gdown) (3.7.1)\r\n",
      "Requirement already satisfied: tqdm in /opt/conda/lib/python3.7/site-packages (from gdown) (4.64.0)\r\n",
      "Requirement already satisfied: soupsieve>1.2 in /opt/conda/lib/python3.7/site-packages (from beautifulsoup4->gdown) (2.3.1)\r\n",
      "Requirement already satisfied: charset-normalizer<3,>=2 in /opt/conda/lib/python3.7/site-packages (from requests[socks]->gdown) (2.1.0)\r\n",
      "Requirement already satisfied: urllib3<1.27,>=1.21.1 in /opt/conda/lib/python3.7/site-packages (from requests[socks]->gdown) (1.26.12)\r\n",
      "Requirement already satisfied: idna<4,>=2.5 in /opt/conda/lib/python3.7/site-packages (from requests[socks]->gdown) (3.3)\r\n",
      "Requirement already satisfied: certifi>=2017.4.17 in /opt/conda/lib/python3.7/site-packages (from requests[socks]->gdown) (2022.9.24)\r\n",
      "Requirement already satisfied: PySocks!=1.5.7,>=1.5.6 in /opt/conda/lib/python3.7/site-packages (from requests[socks]->gdown) (1.7.1)\r\n",
      "Installing collected packages: gdown\r\n",
      "Successfully installed gdown-4.6.0\r\n",
      "\u001b[33mWARNING: Running pip as the 'root' user can result in broken permissions and conflicting behaviour with the system package manager. It is recommended to use a virtual environment instead: https://pip.pypa.io/warnings/venv\u001b[0m\u001b[33m\r\n",
      "\u001b[0mCollecting pandas-gbq\r\n",
      "  Downloading pandas_gbq-0.18.1-py2.py3-none-any.whl (25 kB)\r\n",
      "Collecting google-cloud-bigquery!=2.4.*,<4.0.0dev,>=3.3.5\r\n",
      "  Downloading google_cloud_bigquery-3.4.1-py2.py3-none-any.whl (215 kB)\r\n",
      "\u001b[2K     \u001b[90m━━━━━━━━━━━━━━━━━━━━━━━━━━━━━━━━━━━━━━━\u001b[0m \u001b[32m215.1/215.1 kB\u001b[0m \u001b[31m7.0 MB/s\u001b[0m eta \u001b[36m0:00:00\u001b[0m\r\n",
      "\u001b[?25hCollecting google-auth>=2.13.0\r\n",
      "  Downloading google_auth-2.15.0-py2.py3-none-any.whl (177 kB)\r\n",
      "\u001b[2K     \u001b[90m━━━━━━━━━━━━━━━━━━━━━━━━━━━━━━━━━━━━━━\u001b[0m \u001b[32m177.0/177.0 kB\u001b[0m \u001b[31m18.3 MB/s\u001b[0m eta \u001b[36m0:00:00\u001b[0m\r\n",
      "\u001b[?25hCollecting pydata-google-auth>=1.4.0\r\n",
      "  Downloading pydata_google_auth-1.4.0-py2.py3-none-any.whl (14 kB)\r\n",
      "Requirement already satisfied: pandas>=1.1.4 in /opt/conda/lib/python3.7/site-packages (from pandas-gbq) (1.3.5)\r\n",
      "Collecting google-auth-oauthlib>=0.7.0\r\n",
      "  Downloading google_auth_oauthlib-0.8.0-py2.py3-none-any.whl (19 kB)\r\n",
      "Requirement already satisfied: setuptools in /opt/conda/lib/python3.7/site-packages (from pandas-gbq) (59.8.0)\r\n",
      "Requirement already satisfied: pyarrow>=3.0.0 in /opt/conda/lib/python3.7/site-packages (from pandas-gbq) (8.0.0)\r\n",
      "Collecting google-cloud-bigquery-storage<3.0.0dev,>=2.16.2\r\n",
      "  Downloading google_cloud_bigquery_storage-2.17.0-py2.py3-none-any.whl (187 kB)\r\n",
      "\u001b[2K     \u001b[90m━━━━━━━━━━━━━━━━━━━━━━━━━━━━━━━━━━━━━━\u001b[0m \u001b[32m187.7/187.7 kB\u001b[0m \u001b[31m18.6 MB/s\u001b[0m eta \u001b[36m0:00:00\u001b[0m\r\n",
      "\u001b[?25hCollecting google-api-core<3.0.0dev,>=2.10.2\r\n",
      "  Downloading google_api_core-2.11.0-py3-none-any.whl (120 kB)\r\n",
      "\u001b[2K     \u001b[90m━━━━━━━━━━━━━━━━━━━━━━━━━━━━━━━━━━━━━━\u001b[0m \u001b[32m120.3/120.3 kB\u001b[0m \u001b[31m12.3 MB/s\u001b[0m eta \u001b[36m0:00:00\u001b[0m\r\n",
      "\u001b[?25hCollecting db-dtypes<2.0.0,>=1.0.4\r\n",
      "  Downloading db_dtypes-1.0.5-py2.py3-none-any.whl (14 kB)\r\n",
      "Requirement already satisfied: numpy>=1.16.6 in /opt/conda/lib/python3.7/site-packages (from pandas-gbq) (1.21.6)\r\n",
      "Requirement already satisfied: packaging>=17.0 in /opt/conda/lib/python3.7/site-packages (from db-dtypes<2.0.0,>=1.0.4->pandas-gbq) (21.3)\r\n",
      "Requirement already satisfied: requests<3.0.0dev,>=2.18.0 in /opt/conda/lib/python3.7/site-packages (from google-api-core<3.0.0dev,>=2.10.2->pandas-gbq) (2.28.1)\r\n",
      "Collecting protobuf!=3.20.0,!=3.20.1,!=4.21.0,!=4.21.1,!=4.21.2,!=4.21.3,!=4.21.4,!=4.21.5,<5.0.0dev,>=3.19.5\r\n",
      "  Downloading protobuf-4.21.12-cp37-abi3-manylinux2014_x86_64.whl (409 kB)\r\n",
      "\u001b[2K     \u001b[90m━━━━━━━━━━━━━━━━━━━━━━━━━━━━━━━━━━━━━━\u001b[0m \u001b[32m409.8/409.8 kB\u001b[0m \u001b[31m21.8 MB/s\u001b[0m eta \u001b[36m0:00:00\u001b[0m\r\n",
      "\u001b[?25hRequirement already satisfied: googleapis-common-protos<2.0dev,>=1.56.2 in /opt/conda/lib/python3.7/site-packages (from google-api-core<3.0.0dev,>=2.10.2->pandas-gbq) (1.56.3)\r\n",
      "Requirement already satisfied: cachetools<6.0,>=2.0.0 in /opt/conda/lib/python3.7/site-packages (from google-auth>=2.13.0->pandas-gbq) (4.2.4)\r\n",
      "Requirement already satisfied: six>=1.9.0 in /opt/conda/lib/python3.7/site-packages (from google-auth>=2.13.0->pandas-gbq) (1.15.0)\r\n",
      "Requirement already satisfied: pyasn1-modules>=0.2.1 in /opt/conda/lib/python3.7/site-packages (from google-auth>=2.13.0->pandas-gbq) (0.2.7)\r\n",
      "Requirement already satisfied: rsa<5,>=3.1.4 in /opt/conda/lib/python3.7/site-packages (from google-auth>=2.13.0->pandas-gbq) (4.8)\r\n",
      "Requirement already satisfied: requests-oauthlib>=0.7.0 in /opt/conda/lib/python3.7/site-packages (from google-auth-oauthlib>=0.7.0->pandas-gbq) (1.3.1)\r\n",
      "Collecting grpcio<2.0dev,>=1.47.0\r\n",
      "  Downloading grpcio-1.51.1-cp37-cp37m-manylinux_2_17_x86_64.manylinux2014_x86_64.whl (4.8 MB)\r\n",
      "\u001b[2K     \u001b[90m━━━━━━━━━━━━━━━━━━━━━━━━━━━━━━━━━━━━━━━━\u001b[0m \u001b[32m4.8/4.8 MB\u001b[0m \u001b[31m76.0 MB/s\u001b[0m eta \u001b[36m0:00:00\u001b[0m\r\n",
      "\u001b[?25hRequirement already satisfied: google-api-core[grpc]!=2.0.*,!=2.1.*,!=2.2.*,!=2.3.0,<3.0.0dev,>=1.31.5 in /opt/conda/lib/python3.7/site-packages (from google-cloud-bigquery!=2.4.*,<4.0.0dev,>=3.3.5->pandas-gbq) (1.33.2)\r\n",
      "Requirement already satisfied: google-resumable-media<3.0dev,>=0.6.0 in /opt/conda/lib/python3.7/site-packages (from google-cloud-bigquery!=2.4.*,<4.0.0dev,>=3.3.5->pandas-gbq) (1.3.3)\r\n",
      "Requirement already satisfied: python-dateutil<3.0dev,>=2.7.2 in /opt/conda/lib/python3.7/site-packages (from google-cloud-bigquery!=2.4.*,<4.0.0dev,>=3.3.5->pandas-gbq) (2.8.2)\r\n",
      "Requirement already satisfied: proto-plus<2.0.0dev,>=1.15.0 in /opt/conda/lib/python3.7/site-packages (from google-cloud-bigquery!=2.4.*,<4.0.0dev,>=3.3.5->pandas-gbq) (1.20.6)\r\n",
      "Requirement already satisfied: google-cloud-core<3.0.0dev,>=1.4.1 in /opt/conda/lib/python3.7/site-packages (from google-cloud-bigquery!=2.4.*,<4.0.0dev,>=3.3.5->pandas-gbq) (1.7.3)\r\n",
      "Collecting proto-plus<2.0.0dev,>=1.15.0\r\n",
      "  Downloading proto_plus-1.22.1-py3-none-any.whl (47 kB)\r\n",
      "\u001b[2K     \u001b[90m━━━━━━━━━━━━━━━━━━━━━━━━━━━━━━━━━━━━━━━━\u001b[0m \u001b[32m47.9/47.9 kB\u001b[0m \u001b[31m4.7 MB/s\u001b[0m eta \u001b[36m0:00:00\u001b[0m\r\n",
      "\u001b[?25hRequirement already satisfied: pytz>=2017.3 in /opt/conda/lib/python3.7/site-packages (from pandas>=1.1.4->pandas-gbq) (2022.1)\r\n",
      "Requirement already satisfied: grpcio-status<2.0dev,>=1.33.2 in /opt/conda/lib/python3.7/site-packages (from google-api-core<3.0.0dev,>=2.10.2->pandas-gbq) (1.47.0)\r\n",
      "Collecting google-cloud-core<3.0.0dev,>=1.4.1\r\n",
      "  Downloading google_cloud_core-2.3.2-py2.py3-none-any.whl (29 kB)\r\n",
      "Requirement already satisfied: google-crc32c<2.0dev,>=1.0 in /opt/conda/lib/python3.7/site-packages (from google-resumable-media<3.0dev,>=0.6.0->google-cloud-bigquery!=2.4.*,<4.0.0dev,>=3.3.5->pandas-gbq) (1.1.2)\r\n",
      "Requirement already satisfied: pyparsing!=3.0.5,>=2.0.2 in /opt/conda/lib/python3.7/site-packages (from packaging>=17.0->db-dtypes<2.0.0,>=1.0.4->pandas-gbq) (3.0.9)\r\n",
      "Requirement already satisfied: pyasn1<0.5.0,>=0.4.6 in /opt/conda/lib/python3.7/site-packages (from pyasn1-modules>=0.2.1->google-auth>=2.13.0->pandas-gbq) (0.4.8)\r\n",
      "Requirement already satisfied: urllib3<1.27,>=1.21.1 in /opt/conda/lib/python3.7/site-packages (from requests<3.0.0dev,>=2.18.0->google-api-core<3.0.0dev,>=2.10.2->pandas-gbq) (1.26.12)\r\n",
      "Requirement already satisfied: certifi>=2017.4.17 in /opt/conda/lib/python3.7/site-packages (from requests<3.0.0dev,>=2.18.0->google-api-core<3.0.0dev,>=2.10.2->pandas-gbq) (2022.9.24)\r\n",
      "Requirement already satisfied: charset-normalizer<3,>=2 in /opt/conda/lib/python3.7/site-packages (from requests<3.0.0dev,>=2.18.0->google-api-core<3.0.0dev,>=2.10.2->pandas-gbq) (2.1.0)\r\n",
      "Requirement already satisfied: idna<4,>=2.5 in /opt/conda/lib/python3.7/site-packages (from requests<3.0.0dev,>=2.18.0->google-api-core<3.0.0dev,>=2.10.2->pandas-gbq) (3.3)\r\n",
      "Requirement already satisfied: oauthlib>=3.0.0 in /opt/conda/lib/python3.7/site-packages (from requests-oauthlib>=0.7.0->google-auth-oauthlib>=0.7.0->pandas-gbq) (3.2.0)\r\n",
      "Requirement already satisfied: cffi>=1.0.0 in /opt/conda/lib/python3.7/site-packages (from google-crc32c<2.0dev,>=1.0->google-resumable-media<3.0dev,>=0.6.0->google-cloud-bigquery!=2.4.*,<4.0.0dev,>=3.3.5->pandas-gbq) (1.15.0)\r\n",
      "Requirement already satisfied: pycparser in /opt/conda/lib/python3.7/site-packages (from cffi>=1.0.0->google-crc32c<2.0dev,>=1.0->google-resumable-media<3.0dev,>=0.6.0->google-cloud-bigquery!=2.4.*,<4.0.0dev,>=3.3.5->pandas-gbq) (2.21)\r\n",
      "Installing collected packages: protobuf, grpcio, proto-plus, google-auth, google-auth-oauthlib, google-api-core, db-dtypes, pydata-google-auth, google-cloud-core, google-cloud-bigquery-storage, google-cloud-bigquery, pandas-gbq\r\n",
      "  Attempting uninstall: protobuf\r\n",
      "    Found existing installation: protobuf 3.19.4\r\n",
      "    Uninstalling protobuf-3.19.4:\r\n",
      "      Successfully uninstalled protobuf-3.19.4\r\n",
      "  Attempting uninstall: grpcio\r\n",
      "    Found existing installation: grpcio 1.43.0\r\n",
      "    Uninstalling grpcio-1.43.0:\r\n",
      "      Successfully uninstalled grpcio-1.43.0\r\n",
      "  Attempting uninstall: proto-plus\r\n",
      "    Found existing installation: proto-plus 1.20.6\r\n",
      "    Uninstalling proto-plus-1.20.6:\r\n",
      "      Successfully uninstalled proto-plus-1.20.6\r\n",
      "  Attempting uninstall: google-auth\r\n",
      "    Found existing installation: google-auth 1.35.0\r\n",
      "    Uninstalling google-auth-1.35.0:\r\n",
      "      Successfully uninstalled google-auth-1.35.0\r\n",
      "  Attempting uninstall: google-auth-oauthlib\r\n",
      "    Found existing installation: google-auth-oauthlib 0.4.6\r\n",
      "    Uninstalling google-auth-oauthlib-0.4.6:\r\n",
      "      Successfully uninstalled google-auth-oauthlib-0.4.6\r\n",
      "  Attempting uninstall: google-api-core\r\n",
      "    Found existing installation: google-api-core 1.33.2\r\n",
      "    Uninstalling google-api-core-1.33.2:\r\n",
      "      Successfully uninstalled google-api-core-1.33.2\r\n",
      "  Attempting uninstall: google-cloud-core\r\n",
      "    Found existing installation: google-cloud-core 1.7.3\r\n",
      "    Uninstalling google-cloud-core-1.7.3:\r\n",
      "      Successfully uninstalled google-cloud-core-1.7.3\r\n",
      "  Attempting uninstall: google-cloud-bigquery\r\n",
      "    Found existing installation: google-cloud-bigquery 2.2.0\r\n",
      "    Uninstalling google-cloud-bigquery-2.2.0:\r\n",
      "      Successfully uninstalled google-cloud-bigquery-2.2.0\r\n",
      "\u001b[31mERROR: pip's dependency resolver does not currently take into account all the packages that are installed. This behaviour is the source of the following dependency conflicts.\r\n",
      "tensorflow-io 0.21.0 requires tensorflow-io-gcs-filesystem==0.21.0, which is not installed.\r\n",
      "wandb 0.12.21 requires protobuf<4.0dev,>=3.12.0, but you have protobuf 4.21.12 which is incompatible.\r\n",
      "tfx-bsl 1.9.0 requires protobuf<3.21,>=3.13, but you have protobuf 4.21.12 which is incompatible.\r\n",
      "tfx-bsl 1.9.0 requires pyarrow<6,>=1, but you have pyarrow 8.0.0 which is incompatible.\r\n",
      "tfx-bsl 1.9.0 requires tensorflow!=2.0.*,!=2.1.*,!=2.2.*,!=2.3.*,!=2.4.*,!=2.5.*,!=2.6.*,!=2.7.*,!=2.8.*,<3,>=1.15.5, but you have tensorflow 2.6.4 which is incompatible.\r\n",
      "tensorflow 2.6.4 requires h5py~=3.1.0, but you have h5py 3.7.0 which is incompatible.\r\n",
      "tensorflow 2.6.4 requires numpy~=1.19.2, but you have numpy 1.21.6 which is incompatible.\r\n",
      "tensorflow 2.6.4 requires tensorboard<2.7,>=2.6.0, but you have tensorboard 2.10.1 which is incompatible.\r\n",
      "tensorflow 2.6.4 requires typing-extensions<3.11,>=3.7, but you have typing-extensions 4.4.0 which is incompatible.\r\n",
      "tensorflow-transform 1.9.0 requires protobuf<4,>=3.13, but you have protobuf 4.21.12 which is incompatible.\r\n",
      "tensorflow-transform 1.9.0 requires pyarrow<6,>=1, but you have pyarrow 8.0.0 which is incompatible.\r\n",
      "tensorflow-transform 1.9.0 requires tensorflow!=2.0.*,!=2.1.*,!=2.2.*,!=2.3.*,!=2.4.*,!=2.5.*,!=2.6.*,!=2.7.*,!=2.8.*,<2.10,>=1.15.5, but you have tensorflow 2.6.4 which is incompatible.\r\n",
      "tensorflow-serving-api 2.9.0 requires tensorflow<3,>=2.9.0, but you have tensorflow 2.6.4 which is incompatible.\r\n",
      "tensorflow-metadata 1.9.0 requires protobuf<4,>=3.13, but you have protobuf 4.21.12 which is incompatible.\r\n",
      "tensorboardx 2.5.1 requires protobuf<=3.20.1,>=3.8.0, but you have protobuf 4.21.12 which is incompatible.\r\n",
      "tensorboard 2.10.1 requires google-auth-oauthlib<0.5,>=0.4.1, but you have google-auth-oauthlib 0.8.0 which is incompatible.\r\n",
      "tensorboard 2.10.1 requires protobuf<3.20,>=3.9.2, but you have protobuf 4.21.12 which is incompatible.\r\n",
      "ray 2.0.0 requires grpcio<=1.43.0,>=1.28.1; python_version < \"3.10\", but you have grpcio 1.51.1 which is incompatible.\r\n",
      "ray 2.0.0 requires protobuf<4.0.0,>=3.15.3, but you have protobuf 4.21.12 which is incompatible.\r\n",
      "onnx 1.12.0 requires protobuf<=3.20.1,>=3.12.2, but you have protobuf 4.21.12 which is incompatible.\r\n",
      "nnabla 1.31.0 requires protobuf<=3.19.4; platform_system != \"Windows\", but you have protobuf 4.21.12 which is incompatible.\r\n",
      "matrixprofile 1.1.10 requires protobuf<4.0.0,>=3.11.2, but you have protobuf 4.21.12 which is incompatible.\r\n",
      "google-cloud-vision 2.7.3 requires protobuf<4.0.0dev,>=3.19.0, but you have protobuf 4.21.12 which is incompatible.\r\n",
      "google-cloud-videointelligence 2.7.1 requires protobuf<4.0.0dev,>=3.19.0, but you have protobuf 4.21.12 which is incompatible.\r\n",
      "google-cloud-translate 3.7.4 requires protobuf<4.0.0dev,>=3.19.0, but you have protobuf 4.21.12 which is incompatible.\r\n",
      "google-cloud-tasks 2.9.1 requires protobuf<4.0.0dev,>=3.19.0, but you have protobuf 4.21.12 which is incompatible.\r\n",
      "google-cloud-speech 2.14.1 requires protobuf<4.0.0dev,>=3.19.0, but you have protobuf 4.21.12 which is incompatible.\r\n",
      "google-cloud-spanner 3.15.1 requires protobuf<4.0.0dev,>=3.19.0, but you have protobuf 4.21.12 which is incompatible.\r\n",
      "google-cloud-scheduler 2.6.4 requires protobuf<4.0.0dev,>=3.19.0, but you have protobuf 4.21.12 which is incompatible.\r\n",
      "google-cloud-resource-manager 1.5.1 requires protobuf<4.0.0dev,>=3.19.0, but you have protobuf 4.21.12 which is incompatible.\r\n",
      "google-cloud-recommendations-ai 0.2.0 requires google-api-core[grpc]<2.0.0dev,>=1.22.2, but you have google-api-core 2.11.0 which is incompatible.\r\n",
      "google-cloud-pubsub 2.13.0 requires protobuf<4.0.0dev,>=3.19.0, but you have protobuf 4.21.12 which is incompatible.\r\n",
      "google-cloud-monitoring 2.9.2 requires protobuf<4.0.0dev,>=3.19.0, but you have protobuf 4.21.12 which is incompatible.\r\n",
      "google-cloud-logging 3.1.2 requires protobuf<4.0.0dev,>=3.19.0, but you have protobuf 4.21.12 which is incompatible.\r\n",
      "google-cloud-language 2.4.3 requires protobuf<4.0.0dev,>=3.19.0, but you have protobuf 4.21.12 which is incompatible.\r\n",
      "google-cloud-kms 2.11.2 requires protobuf<4.0.0dev,>=3.19.0, but you have protobuf 4.21.12 which is incompatible.\r\n",
      "google-cloud-firestore 2.5.3 requires protobuf<4.0.0dev,>=3.19.0, but you have protobuf 4.21.12 which is incompatible.\r\n",
      "google-cloud-dlp 3.7.1 requires protobuf<4.0.0dev,>=3.19.0, but you have protobuf 4.21.12 which is incompatible.\r\n",
      "google-cloud-datastore 2.7.1 requires protobuf<4.0.0dev,>=3.19.0, but you have protobuf 4.21.12 which is incompatible.\r\n",
      "google-cloud-dataproc 4.0.3 requires protobuf<4.0.0dev,>=3.19.0, but you have protobuf 4.21.12 which is incompatible.\r\n",
      "google-cloud-bigtable 2.10.1 requires protobuf<4.0.0dev,>=3.19.0, but you have protobuf 4.21.12 which is incompatible.\r\n",
      "google-cloud-automl 1.0.1 requires google-api-core[grpc]<2.0.0dev,>=1.14.0, but you have google-api-core 2.11.0 which is incompatible.\r\n",
      "google-cloud-audit-log 0.2.2 requires protobuf<4.0.0dev,>=3.6.0, but you have protobuf 4.21.12 which is incompatible.\r\n",
      "google-cloud-appengine-logging 1.1.2 requires protobuf<4.0.0dev,>=3.19.0, but you have protobuf 4.21.12 which is incompatible.\r\n",
      "google-cloud-aiplatform 0.6.0a1 requires google-api-core[grpc]<2.0.0dev,>=1.22.2, but you have google-api-core 2.11.0 which is incompatible.\r\n",
      "google-cloud-aiplatform 0.6.0a1 requires google-cloud-bigquery<3.0.0dev,>=1.15.0, but you have google-cloud-bigquery 3.4.1 which is incompatible.\r\n",
      "gcsfs 2022.5.0 requires fsspec==2022.5.0, but you have fsspec 2022.8.2 which is incompatible.\r\n",
      "cloud-tpu-client 0.10 requires google-api-python-client==1.8.0, but you have google-api-python-client 1.12.11 which is incompatible.\r\n",
      "apache-beam 2.40.0 requires dill<0.3.2,>=0.3.1.1, but you have dill 0.3.5.1 which is incompatible.\r\n",
      "apache-beam 2.40.0 requires protobuf<4,>=3.12.2, but you have protobuf 4.21.12 which is incompatible.\r\n",
      "apache-beam 2.40.0 requires pyarrow<8.0.0,>=0.15.1, but you have pyarrow 8.0.0 which is incompatible.\r\n",
      "allennlp 2.10.0 requires protobuf==3.20.0, but you have protobuf 4.21.12 which is incompatible.\u001b[0m\u001b[31m\r\n",
      "\u001b[0mSuccessfully installed db-dtypes-1.0.5 google-api-core-2.11.0 google-auth-2.15.0 google-auth-oauthlib-0.8.0 google-cloud-bigquery-3.4.1 google-cloud-bigquery-storage-2.17.0 google-cloud-core-2.3.2 grpcio-1.51.1 pandas-gbq-0.18.1 proto-plus-1.22.1 protobuf-4.21.12 pydata-google-auth-1.4.0\r\n",
      "\u001b[33mWARNING: Running pip as the 'root' user can result in broken permissions and conflicting behaviour with the system package manager. It is recommended to use a virtual environment instead: https://pip.pypa.io/warnings/venv\u001b[0m\u001b[33m\r\n",
      "\u001b[0m"
     ]
    }
   ],
   "source": [
    "!pip install gdown\n",
    "!pip install pandas-gbq"
   ]
  },
  {
   "cell_type": "code",
   "execution_count": 3,
   "id": "686c824c",
   "metadata": {
    "execution": {
     "iopub.execute_input": "2022-12-16T05:37:11.139500Z",
     "iopub.status.busy": "2022-12-16T05:37:11.139219Z",
     "iopub.status.idle": "2022-12-16T05:37:11.143758Z",
     "shell.execute_reply": "2022-12-16T05:37:11.142785Z"
    },
    "papermill": {
     "duration": 0.012988,
     "end_time": "2022-12-16T05:37:11.145428",
     "exception": false,
     "start_time": "2022-12-16T05:37:11.132440",
     "status": "completed"
    },
    "tags": []
   },
   "outputs": [],
   "source": [
    "from pandas.io import gbq"
   ]
  },
  {
   "cell_type": "code",
   "execution_count": 4,
   "id": "d806757c",
   "metadata": {
    "execution": {
     "iopub.execute_input": "2022-12-16T05:37:11.158170Z",
     "iopub.status.busy": "2022-12-16T05:37:11.157857Z",
     "iopub.status.idle": "2022-12-16T05:37:21.265831Z",
     "shell.execute_reply": "2022-12-16T05:37:21.265052Z"
    },
    "papermill": {
     "duration": 10.11683,
     "end_time": "2022-12-16T05:37:21.267957",
     "exception": false,
     "start_time": "2022-12-16T05:37:11.151127",
     "status": "completed"
    },
    "tags": []
   },
   "outputs": [
    {
     "name": "stdout",
     "output_type": "stream",
     "text": [
      "/opt/conda/lib/python3.7/site-packages/gdown/cli.py:125: FutureWarning: Option `--id` was deprecated in version 4.3.1 and will be removed in 5.0. You don't need to pass it anymore to use a file ID.\r\n",
      "  category=FutureWarning,\r\n",
      "Downloading...\r\n",
      "From: https://drive.google.com/uc?id=1LXpK1UfqtP89H1tYy0pBGHjYk8IhigUK\r\n",
      "To: /kaggle/working/goodreads_books.json.gz\r\n",
      "100%|███████████████████████████████████████| 2.08G/2.08G [00:09<00:00, 229MB/s]\r\n"
     ]
    }
   ],
   "source": [
    "# get the google drive file\n",
    "!gdown --id 1LXpK1UfqtP89H1tYy0pBGHjYk8IhigUK"
   ]
  },
  {
   "cell_type": "code",
   "execution_count": 5,
   "id": "416be5e9",
   "metadata": {
    "execution": {
     "iopub.execute_input": "2022-12-16T05:37:27.169998Z",
     "iopub.status.busy": "2022-12-16T05:37:27.168705Z",
     "iopub.status.idle": "2022-12-16T05:37:27.176049Z",
     "shell.execute_reply": "2022-12-16T05:37:27.175061Z"
    },
    "papermill": {
     "duration": 0.046589,
     "end_time": "2022-12-16T05:37:27.178384",
     "exception": false,
     "start_time": "2022-12-16T05:37:27.131795",
     "status": "completed"
    },
    "tags": []
   },
   "outputs": [],
   "source": [
    "import gzip\n",
    "# we are going to read the file line by line\n",
    "# streams the file without unzipping it\n",
    "with gzip.open(\"/kaggle/working/goodreads_books.json.gz\",\"r\") as f:\n",
    "    line = f.readline()"
   ]
  },
  {
   "cell_type": "code",
   "execution_count": 6,
   "id": "7a86e513",
   "metadata": {
    "execution": {
     "iopub.execute_input": "2022-12-16T05:37:27.418744Z",
     "iopub.status.busy": "2022-12-16T05:37:27.418401Z",
     "iopub.status.idle": "2022-12-16T05:37:27.425610Z",
     "shell.execute_reply": "2022-12-16T05:37:27.424753Z"
    },
    "papermill": {
     "duration": 0.046236,
     "end_time": "2022-12-16T05:37:27.428278",
     "exception": false,
     "start_time": "2022-12-16T05:37:27.382042",
     "status": "completed"
    },
    "tags": []
   },
   "outputs": [
    {
     "data": {
      "text/plain": [
       "b'{\"isbn\": \"0312853122\", \"text_reviews_count\": \"1\", \"series\": [], \"country_code\": \"US\", \"language_code\": \"\", \"popular_shelves\": [{\"count\": \"3\", \"name\": \"to-read\"}, {\"count\": \"1\", \"name\": \"p\"}, {\"count\": \"1\", \"name\": \"collection\"}, {\"count\": \"1\", \"name\": \"w-c-fields\"}, {\"count\": \"1\", \"name\": \"biography\"}], \"asin\": \"\", \"is_ebook\": \"false\", \"average_rating\": \"4.00\", \"kindle_asin\": \"\", \"similar_books\": [], \"description\": \"\", \"format\": \"Paperback\", \"link\": \"https://www.goodreads.com/book/show/5333265-w-c-fields\", \"authors\": [{\"author_id\": \"604031\", \"role\": \"\"}], \"publisher\": \"St. Martin\\'s Press\", \"num_pages\": \"256\", \"publication_day\": \"1\", \"isbn13\": \"9780312853129\", \"publication_month\": \"9\", \"edition_information\": \"\", \"publication_year\": \"1984\", \"url\": \"https://www.goodreads.com/book/show/5333265-w-c-fields\", \"image_url\": \"https://images.gr-assets.com/books/1310220028m/5333265.jpg\", \"book_id\": \"5333265\", \"ratings_count\": \"3\", \"work_id\": \"5400751\", \"title\": \"W.C. Fields: A Life on Film\", \"title_without_series\": \"W.C. Fields: A Life on Film\"}\\n'"
      ]
     },
     "execution_count": 6,
     "metadata": {},
     "output_type": "execute_result"
    }
   ],
   "source": [
    "line\n",
    "# this is metadata about a single book"
   ]
  },
  {
   "cell_type": "code",
   "execution_count": 7,
   "id": "77156293",
   "metadata": {
    "execution": {
     "iopub.execute_input": "2022-12-16T05:37:27.490298Z",
     "iopub.status.busy": "2022-12-16T05:37:27.489924Z",
     "iopub.status.idle": "2022-12-16T05:37:27.499524Z",
     "shell.execute_reply": "2022-12-16T05:37:27.498916Z"
    },
    "papermill": {
     "duration": 0.049857,
     "end_time": "2022-12-16T05:37:27.501221",
     "exception": false,
     "start_time": "2022-12-16T05:37:27.451364",
     "status": "completed"
    },
    "tags": []
   },
   "outputs": [
    {
     "data": {
      "text/plain": [
       "{'isbn': '0312853122',\n",
       " 'text_reviews_count': '1',\n",
       " 'series': [],\n",
       " 'country_code': 'US',\n",
       " 'language_code': '',\n",
       " 'popular_shelves': [{'count': '3', 'name': 'to-read'},\n",
       "  {'count': '1', 'name': 'p'},\n",
       "  {'count': '1', 'name': 'collection'},\n",
       "  {'count': '1', 'name': 'w-c-fields'},\n",
       "  {'count': '1', 'name': 'biography'}],\n",
       " 'asin': '',\n",
       " 'is_ebook': 'false',\n",
       " 'average_rating': '4.00',\n",
       " 'kindle_asin': '',\n",
       " 'similar_books': [],\n",
       " 'description': '',\n",
       " 'format': 'Paperback',\n",
       " 'link': 'https://www.goodreads.com/book/show/5333265-w-c-fields',\n",
       " 'authors': [{'author_id': '604031', 'role': ''}],\n",
       " 'publisher': \"St. Martin's Press\",\n",
       " 'num_pages': '256',\n",
       " 'publication_day': '1',\n",
       " 'isbn13': '9780312853129',\n",
       " 'publication_month': '9',\n",
       " 'edition_information': '',\n",
       " 'publication_year': '1984',\n",
       " 'url': 'https://www.goodreads.com/book/show/5333265-w-c-fields',\n",
       " 'image_url': 'https://images.gr-assets.com/books/1310220028m/5333265.jpg',\n",
       " 'book_id': '5333265',\n",
       " 'ratings_count': '3',\n",
       " 'work_id': '5400751',\n",
       " 'title': 'W.C. Fields: A Life on Film',\n",
       " 'title_without_series': 'W.C. Fields: A Life on Film'}"
      ]
     },
     "execution_count": 7,
     "metadata": {},
     "output_type": "execute_result"
    }
   ],
   "source": [
    "# load json line\n",
    "import json\n",
    "json.loads(line)\n",
    "# this returns a dictionary"
   ]
  },
  {
   "cell_type": "markdown",
   "id": "2f5b7ed7",
   "metadata": {
    "papermill": {
     "duration": 0.034553,
     "end_time": "2022-12-16T05:37:27.559277",
     "exception": false,
     "start_time": "2022-12-16T05:37:27.524724",
     "status": "completed"
    },
    "tags": []
   },
   "source": [
    "# **PARSING BOOK METADATA**"
   ]
  }
 ],
 "metadata": {
  "kernelspec": {
   "display_name": "Python 3",
   "language": "python",
   "name": "python3"
  },
  "language_info": {
   "codemirror_mode": {
    "name": "ipython",
    "version": 3
   },
   "file_extension": ".py",
   "mimetype": "text/x-python",
   "name": "python",
   "nbconvert_exporter": "python",
   "pygments_lexer": "ipython3",
   "version": "3.7.12"
  },
  "papermill": {
   "default_parameters": {},
   "duration": 59.863182,
   "end_time": "2022-12-16T05:37:28.088797",
   "environment_variables": {},
   "exception": null,
   "input_path": "__notebook__.ipynb",
   "output_path": "__notebook__.ipynb",
   "parameters": {},
   "start_time": "2022-12-16T05:36:28.225615",
   "version": "2.3.4"
  }
 },
 "nbformat": 4,
 "nbformat_minor": 5
}
